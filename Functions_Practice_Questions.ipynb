{
  "nbformat": 4,
  "nbformat_minor": 0,
  "metadata": {
    "colab": {
      "name": "Functions Practice Questions.ipynb",
      "provenance": [],
      "authorship_tag": "ABX9TyNP7AsahhBYDfOpiMSvu5Qh",
      "include_colab_link": true
    },
    "kernelspec": {
      "name": "python3",
      "display_name": "Python 3"
    },
    "language_info": {
      "name": "python"
    }
  },
  "cells": [
    {
      "cell_type": "markdown",
      "metadata": {
        "id": "view-in-github",
        "colab_type": "text"
      },
      "source": [
        "<a href=\"https://colab.research.google.com/github/Nkbh14/Python-Questions/blob/main/Functions_Practice_Questions.ipynb\" target=\"_parent\"><img src=\"https://colab.research.google.com/assets/colab-badge.svg\" alt=\"Open In Colab\"/></a>"
      ]
    },
    {
      "cell_type": "markdown",
      "source": [
        "###1) Create a function to calculate the cube of a number that is passed as the argument to the function. \n",
        ">Example :\n",
        ">>def cube(number):\n",
        "number = 4\n",
        "cube(number)\n",
        ">>> 64"
      ],
      "metadata": {
        "id": "HJ7c1pcEZ_WX"
      }
    },
    {
      "cell_type": "code",
      "source": [
        "def cube(n):\n",
        "  print(n**3)\n",
        "cube(4)"
      ],
      "metadata": {
        "colab": {
          "base_uri": "https://localhost:8080/"
        },
        "id": "HiuOCDi8Z8wI",
        "outputId": "8285526e-c3ad-4efd-b58b-d4e5b61cb6e8"
      },
      "execution_count": 1,
      "outputs": [
        {
          "output_type": "stream",
          "name": "stdout",
          "text": [
            "64\n"
          ]
        }
      ]
    },
    {
      "cell_type": "markdown",
      "source": [
        "###2) Create a function to calculate the sum of square of 2 numbers that are defined as the default arguments and its square output is 5.\n",
        "Example :\n",
        "def square(n1 = value,n2 = value):\n",
        "square()\n",
        ">>> 5\n"
      ],
      "metadata": {
        "id": "m52tB9ZBagvC"
      }
    },
    {
      "cell_type": "code",
      "source": [
        "def square(n=1,n1=2):\n",
        "  print(n**2+n1**2)\n",
        "\n",
        "square()"
      ],
      "metadata": {
        "colab": {
          "base_uri": "https://localhost:8080/"
        },
        "id": "EnU1_w68abq9",
        "outputId": "e3d1d296-dc7b-405c-a056-15b03b47e897"
      },
      "execution_count": 2,
      "outputs": [
        {
          "output_type": "stream",
          "name": "stdout",
          "text": [
            "5\n"
          ]
        }
      ]
    },
    {
      "cell_type": "markdown",
      "source": [
        "### 3)Create a function to calculate the factorial of a number which is passed as an argument and assign the output of the function to a variable named out.\n",
        "Example :\n",
        "def factorial(number):\n",
        "\n",
        "out = factorial(5)\n",
        "out\n",
        ">>> 120\n"
      ],
      "metadata": {
        "id": "tay5_pxmbPCb"
      }
    },
    {
      "cell_type": "code",
      "source": [
        "def factorial(a):\n",
        "  f=1\n",
        "  for i in range(1,a+1):\n",
        "    f=f*i \n",
        "  print(f)\n",
        "\n",
        "out=factorial(5)\n",
        "out"
      ],
      "metadata": {
        "colab": {
          "base_uri": "https://localhost:8080/"
        },
        "id": "36ZDahzIa3Lx",
        "outputId": "75652338-dfd9-4f4b-f417-b47f9802a967"
      },
      "execution_count": 3,
      "outputs": [
        {
          "output_type": "stream",
          "name": "stdout",
          "text": [
            "120\n"
          ]
        }
      ]
    },
    {
      "cell_type": "markdown",
      "source": [
        "### 4) Correct the syntax of the following function to get the required output.\n",
        "Note : Make use of all the concepts covered until now.\n",
        "Example :\n",
        "def string_concatenation{s1 = 'ai',s2 ,s3 = 3);\n",
        "    elif s3 == 3;\n",
        "    s = s1 + s2 * s3\n",
        "        printf[s,end = '-')\n",
        "    else;;\n",
        "    s = s1 + s2 * 1\n",
        "    \n",
        "    printf(s,end = '->'\\\n",
        "    \n",
        "    123string_concat{'adventures']\n",
        "    \n",
        "    >>> 'aiadventuresaiadventuresaiadventures'\n",
        "\n",
        "\n"
      ],
      "metadata": {
        "id": "Afms65U5bfvz"
      }
    },
    {
      "cell_type": "code",
      "source": [
        "def string_concatenation(s3,s1='ai', s2=3 ):\n",
        "  if s2==3:\n",
        "      s = (s1 + s3) * s2\n",
        "      print(s,end = '')\n",
        "  else:\n",
        "      s = (s1 + s3) * 1\n",
        "      print(s,end = '')\n",
        "\n",
        "string_concatenation('adventures')"
      ],
      "metadata": {
        "colab": {
          "base_uri": "https://localhost:8080/"
        },
        "id": "7axmH6OLbcIQ",
        "outputId": "2444e7c9-3b6b-4d82-b73d-d86089faa10f"
      },
      "execution_count": 4,
      "outputs": [
        {
          "output_type": "stream",
          "name": "stdout",
          "text": [
            "aiadventuresaiadventuresaiadventures"
          ]
        }
      ]
    },
    {
      "cell_type": "markdown",
      "source": [
        "5) Create a function to calculate the area of triangle or rectangle using 3 arguments : base, height and shape.\n",
        "\n",
        "Example :\n",
        "\n",
        "def calculate_area(base, height,shape):\n",
        "\n",
        "b = 2\n",
        "h = 6\n",
        "\n",
        "calculate_area(b,h, 'Rectangle')\n",
        "\n",
        ">>> 12\n",
        "\n",
        "\n",
        "calculate_area(b,h, 'Triangle')\n",
        "\n",
        ">>> 6.0"
      ],
      "metadata": {
        "id": "JYHDTRB7cOEu"
      }
    },
    {
      "cell_type": "code",
      "source": [
        "def area(b,h,shape):\n",
        "  if shape=='Rectangle':\n",
        "    print(b*h)\n",
        "  elif shape=='Triangle':\n",
        "    print(1/2*b*h)\n",
        "\n",
        "area(2,6,'Rectangle')\n",
        "area(2,6,'Triangle')"
      ],
      "metadata": {
        "colab": {
          "base_uri": "https://localhost:8080/"
        },
        "id": "sgUIsH84cIwK",
        "outputId": "ffb1c392-fc62-437a-f7b8-041d3752b753"
      },
      "execution_count": 5,
      "outputs": [
        {
          "output_type": "stream",
          "name": "stdout",
          "text": [
            "12\n",
            "6.0\n"
          ]
        }
      ]
    },
    {
      "cell_type": "markdown",
      "source": [
        "6) Create a function that returns None value and display the result of the string concatenation. You have to take the 2 strings required for the function as argument as shown in the example given below.\n",
        "Example :\n",
        "\n",
        "def none_value_assignment(s1 = input(),s2 = input()):\n",
        "\n",
        "var1 = none_value_assignment()\n",
        "type(var1)\n",
        "\n",
        ">>> result of string concatenation of s1 and s2\n",
        ">>> NoneType\n",
        "\n",
        "var2 = none_value_assignment('ai', 'adventures')\n",
        "type(var2)\n",
        "\n",
        ">>> aiadventures\n",
        ">>> NoneType"
      ],
      "metadata": {
        "id": "zWFko-6ucyh1"
      }
    },
    {
      "cell_type": "code",
      "source": [
        "def none_value_assignment(s1 = input(),s2 = input()):\n",
        "  w=s1+s2\n",
        "  print(w)\n",
        "\n",
        "\n",
        "var1 = none_value_assignment()\n",
        "type(var1)"
      ],
      "metadata": {
        "colab": {
          "base_uri": "https://localhost:8080/"
        },
        "id": "TV_skc6mcTGQ",
        "outputId": "34bb1d1e-ea60-4662-8ac8-0ad0cd2591a0"
      },
      "execution_count": 8,
      "outputs": [
        {
          "output_type": "stream",
          "name": "stdout",
          "text": [
            "ai\n",
            "adventures\n",
            "aiadventures\n"
          ]
        },
        {
          "output_type": "execute_result",
          "data": {
            "text/plain": [
              "NoneType"
            ]
          },
          "metadata": {},
          "execution_count": 8
        }
      ]
    },
    {
      "cell_type": "markdown",
      "source": [
        "7) Create a function to calculate and display the sum of the following sequence by taking input from user for n.\n",
        "\n",
        "Sequence : 1 + 1/1! + 1/2! + 1/3! + + 1/n!\n",
        "\n",
        "Hint : Give a thought above factorial() you have just created a few problems back.\n",
        "\n",
        "def sequence(n):\n",
        "\n",
        "sequence(5)\n",
        ">>> 2.7166666666666663"
      ],
      "metadata": {
        "id": "1iunWcnFdunh"
      }
    },
    {
      "cell_type": "code",
      "source": [
        "def sequence(n):\n",
        "  f=1\n",
        "  s1=1\n",
        "  for i in range(1,n+1):\n",
        "    f=f*i\n",
        "    s1=s1+1/f\n",
        "  print(s1)\n",
        "\n",
        "sequence(5)"
      ],
      "metadata": {
        "colab": {
          "base_uri": "https://localhost:8080/"
        },
        "id": "5y8KJSp6dQ_-",
        "outputId": "68f6ecbe-aabd-4057-d41b-d7776a55ed22"
      },
      "execution_count": 9,
      "outputs": [
        {
          "output_type": "stream",
          "name": "stdout",
          "text": [
            "2.7166666666666663\n"
          ]
        }
      ]
    },
    {
      "cell_type": "markdown",
      "source": [
        "8) Create a function to check whether a string is pangram or not.\n",
        "\n",
        "Pangram Definition : It is a sentence containing all 26 letters of the English alphabets.\n",
        "\n",
        "Example :\n",
        "\n",
        "def ispangram(sentence):\n",
        "\n",
        "sentence1 = \"a quick brown fox jumps over the lazy dog\"\n",
        "sentence2 = \"hello my name is ramesh\"\n",
        "\n",
        "ispangram(sentence1)\n",
        "\n",
        ">>> True\n",
        "\n",
        "ispangram(sentence2)\n",
        "\n",
        ">>> False"
      ],
      "metadata": {
        "id": "kECocCI1eAUD"
      }
    },
    {
      "cell_type": "code",
      "source": [
        "def ispangram(sentence):\n",
        "  s='abcdefghijklmnopqrstuvwxyz'\n",
        "  for i in s:\n",
        "    if i not in sentence.lower():\n",
        "      return False\n",
        "    \n",
        "  return True\n",
        "\n",
        "sentence1 = \"a quick brown fox jumps over the lazy dog\"\n",
        "ispangram(sentence1)"
      ],
      "metadata": {
        "colab": {
          "base_uri": "https://localhost:8080/"
        },
        "id": "puaxU7CfdzFE",
        "outputId": "f3608065-22ad-4d09-b5eb-614b08310efc"
      },
      "execution_count": 12,
      "outputs": [
        {
          "output_type": "execute_result",
          "data": {
            "text/plain": [
              "True"
            ]
          },
          "metadata": {},
          "execution_count": 12
        }
      ]
    },
    {
      "cell_type": "code",
      "source": [
        "sentence2 = \"hello my name is ramesh\"\n",
        "ispangram(sentence2)"
      ],
      "metadata": {
        "colab": {
          "base_uri": "https://localhost:8080/"
        },
        "id": "2a9bMFureSQJ",
        "outputId": "a79ba459-2397-4782-c3e5-78aa2731a446"
      },
      "execution_count": 13,
      "outputs": [
        {
          "output_type": "execute_result",
          "data": {
            "text/plain": [
              "False"
            ]
          },
          "metadata": {},
          "execution_count": 13
        }
      ]
    },
    {
      "cell_type": "code",
      "source": [
        ""
      ],
      "metadata": {
        "id": "YTtj-KH4eZjt"
      },
      "execution_count": null,
      "outputs": []
    }
  ]
}