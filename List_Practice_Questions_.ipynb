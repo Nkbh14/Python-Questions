{
  "nbformat": 4,
  "nbformat_minor": 0,
  "metadata": {
    "colab": {
      "name": "List Practice Questions .ipynb",
      "provenance": [],
      "collapsed_sections": [],
      "authorship_tag": "ABX9TyO0YG+ujV5HEpgtMbcGGX5E",
      "include_colab_link": true
    },
    "kernelspec": {
      "name": "python3",
      "display_name": "Python 3"
    },
    "language_info": {
      "name": "python"
    }
  },
  "cells": [
    {
      "cell_type": "markdown",
      "metadata": {
        "id": "view-in-github",
        "colab_type": "text"
      },
      "source": [
        "<a href=\"https://colab.research.google.com/github/Nkbh14/Python-Questions/blob/main/List_Practice_Questions_.ipynb\" target=\"_parent\"><img src=\"https://colab.research.google.com/assets/colab-badge.svg\" alt=\"Open In Colab\"/></a>"
      ]
    },
    {
      "cell_type": "markdown",
      "source": [
        "1) Create a function that will reverse a given list.\n",
        "\n",
        "Example :\n",
        "\n",
        "def reverse_list(numbers):\n",
        "  \n",
        "list1 = [8, 6, 4, 2, 0]\n",
        "reverse_list(list1)\n",
        "\n",
        ">>> [0, 2, 4, 6, 8]\n",
        "\n"
      ],
      "metadata": {
        "id": "91Sp3nRAfdrF"
      }
    },
    {
      "cell_type": "code",
      "execution_count": 2,
      "metadata": {
        "colab": {
          "base_uri": "https://localhost:8080/"
        },
        "id": "VQNMhma8fNrj",
        "outputId": "e812e848-47e2-468f-ebc6-8add8de99a04"
      },
      "outputs": [
        {
          "output_type": "stream",
          "name": "stdout",
          "text": [
            "[0, 2, 4, 6, 8]\n"
          ]
        }
      ],
      "source": [
        "def reverse_list(number):\n",
        "  l=number.reverse()\n",
        "  print(number)\n",
        "\n",
        "list1 = [8, 6, 4, 2, 0]\n",
        "reverse_list(list1)"
      ]
    },
    {
      "cell_type": "markdown",
      "source": [
        "2) Create a function that will display the square of every element of the list provided as an argument.\n",
        "\n",
        "Example :\n",
        "\n",
        "def square_list(list_numbers):\n",
        "   \n",
        "list2 = [1, 2, 3, 4, 5]\n",
        "square_list(list2)\n",
        ">>> 1\n",
        "    4\n",
        "    9\n",
        "    16\n",
        "    25"
      ],
      "metadata": {
        "id": "tRg89WBSf9Tz"
      }
    },
    {
      "cell_type": "code",
      "source": [
        "def square_list(list):\n",
        "  for i in list:\n",
        "    print(i**2)\n",
        "\n",
        "list2 = [1, 2, 3, 4, 5]\n",
        "square_list(list2)"
      ],
      "metadata": {
        "colab": {
          "base_uri": "https://localhost:8080/"
        },
        "id": "C0FYSjnSfcoY",
        "outputId": "6d77f5d9-e962-4098-9636-4ec094dbec27"
      },
      "execution_count": 3,
      "outputs": [
        {
          "output_type": "stream",
          "name": "stdout",
          "text": [
            "1\n",
            "4\n",
            "9\n",
            "16\n",
            "25\n"
          ]
        }
      ]
    },
    {
      "cell_type": "markdown",
      "source": [
        "3) Create a function that will take list of fruits and a new_fruit as 2 arguments. Add the new_fruit into the list of fruits and display the updated list. Also, try adding the new_fruit at the index position 2.\n",
        "\n",
        "Example :\n",
        "\n",
        "def to_append(fruits, new_fruit):\n",
        "  ### \n",
        "  \n",
        "\n",
        "fruits = ['banana', 'orange', 'mango', 'lemon']\n",
        "new_fruit = 'blueberry'\n",
        "\n",
        "to_append(fruits, new_fruit)\n",
        "\n",
        ">>> ['banana', 'orange', 'mango', 'lemon', 'blueberry']\n",
        "\n",
        "to_append(fruits, new_fruit)\n",
        "\n",
        ">>> ['banana', 'orange','blueberry' ,'mango', 'lemon',]"
      ],
      "metadata": {
        "id": "uOddyj66gLCS"
      }
    },
    {
      "cell_type": "code",
      "source": [
        "def to_append(fruits,new_fruit):\n",
        "  fruits.append(new_fruit)\n",
        "  print(fruits)\n",
        "\n",
        "fruits = ['banana', 'orange', 'mango', 'lemon']\n",
        "new_fruit = 'blueberry'\n",
        "to_append(fruits, new_fruit)"
      ],
      "metadata": {
        "colab": {
          "base_uri": "https://localhost:8080/"
        },
        "id": "wpmz8hBSgEkK",
        "outputId": "3773710c-17ba-4633-9523-37ba6f8cf32b"
      },
      "execution_count": 4,
      "outputs": [
        {
          "output_type": "stream",
          "name": "stdout",
          "text": [
            "['banana', 'orange', 'mango', 'lemon', 'blueberry']\n"
          ]
        }
      ]
    },
    {
      "cell_type": "markdown",
      "source": [
        "4) Create a function that will take a list as an argument and return an updated list after removing empty strings from the list. list3 = [\"Vivek\", \"\", \"Ankur\", \"aiadventures\", \"\", \"Pranav\"].\n",
        "\n",
        "Example :\n",
        "\n",
        "def remove_spaces(list_names):\n",
        "    ### your code here\n",
        "\n",
        "list3 = [\"Vivek\", \"\", \"Ankur\", \"aiadventures\", \"\", \"Pranav\"]\n",
        "remove_spaces(list3)\n",
        "\n",
        ">>> ['Vivek', 'Ankur', 'aiadventures', 'Pranav']"
      ],
      "metadata": {
        "id": "GpPYmfDpgnUF"
      }
    },
    {
      "cell_type": "code",
      "source": [
        "def remove_spaces(list_name):\n",
        "  for i in list_name:\n",
        "    if len(i)<=0:\n",
        "      list_name.remove(i)\n",
        "  print(list_name)\n",
        "\n",
        "list3 = [\"Vivek\", \"\", \"Ankur\", \"aiadventures\", \"\", \"Pranav\"]\n",
        "remove_spaces(list3)"
      ],
      "metadata": {
        "colab": {
          "base_uri": "https://localhost:8080/"
        },
        "id": "gCCSJBKrgVYP",
        "outputId": "52b097a9-efbe-4f97-ce00-a4a7794c0377"
      },
      "execution_count": 5,
      "outputs": [
        {
          "output_type": "stream",
          "name": "stdout",
          "text": [
            "['Vivek', 'Ankur', 'aiadventures', 'Pranav']\n"
          ]
        }
      ]
    },
    {
      "cell_type": "markdown",
      "source": [
        "5) Create a function that takes 2 lists as arguments and it iterates over both lists simultaneously such that output should display items in original order from 1st list and elements from 2nd list in reverse order.\n",
        "\n",
        "Note : Please give attention to the output as it doesn't include [] brackets.\n",
        "\n",
        "Example :\n",
        "\n",
        "def reverse_list(first, second):\n",
        "    ### your code here\n",
        "\n",
        "list4 = [10, 20, 30, 40]\n",
        "list5 = [100, 200, 300, 400]\n",
        "\n",
        "reverse_list(list4, list5)\n",
        ">>> 10 20 30 40 400 300 200 100"
      ],
      "metadata": {
        "id": "MOhbYPVvg3u_"
      }
    },
    {
      "cell_type": "code",
      "source": [
        "def reverse_list(first,second):\n",
        "  second.reverse()\n",
        "  print(first+second)\n",
        "\n",
        "list4 = [10, 20, 30, 40]\n",
        "list5 = [100, 200, 300, 400]\n",
        "reverse_list(list4, list5)"
      ],
      "metadata": {
        "colab": {
          "base_uri": "https://localhost:8080/"
        },
        "id": "sV7ZHP1lgwEY",
        "outputId": "b7f519a6-48ce-4243-b9d7-33eb0a886062"
      },
      "execution_count": 6,
      "outputs": [
        {
          "output_type": "stream",
          "name": "stdout",
          "text": [
            "[10, 20, 30, 40, 400, 300, 200, 100]\n"
          ]
        }
      ]
    },
    {
      "cell_type": "markdown",
      "source": [
        "6) Create a function that takes 2 lists as arguments and returns a new single list by performing the string replication between the elements of the lists. The elements should be selected in original order from the 1st list and in reverse order from the 2nd list.\n",
        "\n",
        "Example :\n",
        "\n",
        "def multiply_elements(first, second):\n",
        "    ### your code here\n",
        "\n",
        "list4 = ['Ai', 'Adventures', 'Python', 'ML']\n",
        "list5 = [1, 2, 3, 4]\n",
        "\n",
        "reverse_list(list4, list5)\n",
        ">>> ['AiAiAiAi', 'AdventuresAdventuresAdventures', 'PythonPython','ML']"
      ],
      "metadata": {
        "id": "_VnTv1YLhF3V"
      }
    },
    {
      "cell_type": "code",
      "source": [
        "def multiply_elements(first, second):\n",
        "  l=[]\n",
        "  second.reverse()\n",
        "  for i in range(len(first)):\n",
        "    l.append(first[i]*second[i])\n",
        "  print(l)\n",
        "\n",
        "list4 = ['Ai', 'Adventures', 'Python', 'ML']\n",
        "list5 = [1, 2, 3, 4]\n",
        "multiply_elements(list4, list5)"
      ],
      "metadata": {
        "colab": {
          "base_uri": "https://localhost:8080/"
        },
        "id": "mW65Nnd_hA6-",
        "outputId": "99179ad9-c211-4de9-f6ae-0978b5aff95a"
      },
      "execution_count": 7,
      "outputs": [
        {
          "output_type": "stream",
          "name": "stdout",
          "text": [
            "['AiAiAiAi', 'AdventuresAdventuresAdventures', 'PythonPython', 'ML']\n"
          ]
        }
      ]
    },
    {
      "cell_type": "markdown",
      "source": [
        "7) We're using lists to record people that attended our party and in the order they arrive in. For example, the following list represents a party with 7 guests, in which Adela showed up first and Ford was the last to arrive:\n",
        "\n",
        "party_attendees = ['Adela', 'Fleda', 'Owen', 'May', 'Mona', 'Gilbert', 'Ford']\n",
        "\n",
        "A guest is considered fashionably late if they arrived after at least half of the party's guests. However, they must not be the very last guest (that's taking it too far). In the above example, Mona and Gilbert are the only guests who were fashionably late.\n",
        "\n",
        "Create a function which takes a list of party attendees as well as a person as arguments and displays whether that person is fashionably late or not.\n",
        "\n",
        "Example :\n",
        "\n",
        "def fashionably_late(arrivals, name):\n",
        "    ### your code here\n",
        "\n",
        "party_attendees = ['Adela', 'Fleda', 'Owen', 'May', 'Mona', 'Gilbert', 'Ford']\n",
        "fashionably_late(party_attendees, 'Mona')\n",
        ">>> True\n",
        "fashionably_late(party_attendees, 'Ford')\n",
        ">>> False"
      ],
      "metadata": {
        "id": "HUGe7-XshQ5x"
      }
    },
    {
      "cell_type": "code",
      "source": [
        "def fashionably_late(arrivals, name):\n",
        "  i=arrivals.index(name)\n",
        "  if i>=(len(arrivals)/2) and i!=len(arrivals)-1:\n",
        "    return True\n",
        "  else:\n",
        "    return False\n",
        "\n",
        "\n",
        "\n",
        "party_attendees = ['Adela', 'Fleda', 'Owen', 'May', 'Mona', 'Gilbert', 'Ford']\n",
        "fashionably_late(party_attendees, 'Mona') "
      ],
      "metadata": {
        "colab": {
          "base_uri": "https://localhost:8080/"
        },
        "id": "ubutCsR_hKFA",
        "outputId": "ccc737c2-d9c6-4f66-ee58-ab2a0cc85eb2"
      },
      "execution_count": 12,
      "outputs": [
        {
          "output_type": "execute_result",
          "data": {
            "text/plain": [
              "True"
            ]
          },
          "metadata": {},
          "execution_count": 12
        }
      ]
    },
    {
      "cell_type": "code",
      "source": [
        "fashionably_late(party_attendees, 'Ford')"
      ],
      "metadata": {
        "colab": {
          "base_uri": "https://localhost:8080/"
        },
        "id": "HxuXuqKwhXR7",
        "outputId": "d0d84452-0395-4ce2-e94c-a02949435874"
      },
      "execution_count": 13,
      "outputs": [
        {
          "output_type": "execute_result",
          "data": {
            "text/plain": [
              "False"
            ]
          },
          "metadata": {},
          "execution_count": 13
        }
      ]
    },
    {
      "cell_type": "code",
      "source": [
        "fashionably_late(party_attendees, 'May')"
      ],
      "metadata": {
        "colab": {
          "base_uri": "https://localhost:8080/"
        },
        "id": "a4suLTsWhcFF",
        "outputId": "1e24b4da-99ee-408f-8ce4-8efd4c00d8a8"
      },
      "execution_count": 15,
      "outputs": [
        {
          "output_type": "execute_result",
          "data": {
            "text/plain": [
              "False"
            ]
          },
          "metadata": {},
          "execution_count": 15
        }
      ]
    },
    {
      "cell_type": "markdown",
      "source": [
        "8) Create a function that takes 2 lists as arguments. The function should create a new list that contains alternate elements of both the lists and replaces the string elements of the new list with its own length.\n",
        "\n",
        "Note : Use loops to update the empty lists.\n",
        "\n",
        "Example :\n",
        "\n",
        "def list_operations(first, second):\n",
        "    ### your code here\n",
        "\n",
        "first = ['Ai', 'Adventures', 'Python']\n",
        "second = [10, 20, 30]\n",
        "list_operations(first, second):\n",
        ">>> \n",
        "Elements of the 1st List :  ['Ai', 'Adventures', 'Python']\n",
        "Elements of the 2nd List :  [10, 20, 30]\n",
        "List with alternate elements from the above 2 lists :  ['Ai', 10, 'Adventures', 20, 'Python', 30]\n",
        "Final output list :  [2, 10, 10, 20, 6, 30]\n",
        "\n",
        "first = ['Jan', 'February', 'March', 72]\n",
        "second = [10, 20, 30, 'April']\n",
        "list_operations(first, second):\n",
        ">>> \n",
        "Elements of the 1st List :  ['Jan', 'February', 'March', 72]\n",
        "Elements of the 2nd List :  [10, 20, 30, 'April']\n",
        "List with alternate elements from the above 2 lists :  ['Jan', 10, 'February', 20, 'March', 30, 72, 'April']\n",
        "Final output list :  [3, 10, 8, 20, 5, 30, 72, 5]"
      ],
      "metadata": {
        "id": "4y9W3x1WhyJP"
      }
    },
    {
      "cell_type": "code",
      "source": [
        "def list_operations(first, second):\n",
        "  l=[]\n",
        "  for a in first:\n",
        "    if type(a)==str:\n",
        "      l.append(len(a))\n",
        "    else:\n",
        "      l.append(a)\n",
        "  m=[]\n",
        "  for b in second:\n",
        "    if type(b)==str:\n",
        "      m.append(len(b))\n",
        "    else:\n",
        "      m.append(b)\n",
        "\n",
        "  for i,j in zip(l,m):\n",
        "    print(i,j,end=' ')\n",
        "  # l=[i[j]for j in range(len(first)) for i in[first,second]]\n",
        "\n",
        "first = ['Ai', 'Adventures', 'Python']\n",
        "second = [10, 20, 30]\n",
        "\n",
        "list_operations(first, second)"
      ],
      "metadata": {
        "colab": {
          "base_uri": "https://localhost:8080/"
        },
        "id": "ghGmnex0hfGB",
        "outputId": "1ed4cc9d-0c44-44c8-f8bf-5904878a669b"
      },
      "execution_count": 19,
      "outputs": [
        {
          "output_type": "stream",
          "name": "stdout",
          "text": [
            "2 10 10 20 6 30 "
          ]
        }
      ]
    },
    {
      "cell_type": "code",
      "source": [
        "a=['Jan', 'February', 'March', 72]\n",
        "b=[10, 20, 30, 'April']\n",
        "\n",
        "list_operations(a,b)"
      ],
      "metadata": {
        "colab": {
          "base_uri": "https://localhost:8080/"
        },
        "id": "KBye7wcoh8Nd",
        "outputId": "7ca87155-f8d0-4e30-b461-9a022981b000"
      },
      "execution_count": 18,
      "outputs": [
        {
          "output_type": "stream",
          "name": "stdout",
          "text": [
            "3 10 8 20 5 30 72 5 "
          ]
        }
      ]
    },
    {
      "cell_type": "code",
      "source": [
        ""
      ],
      "metadata": {
        "id": "aYPu-JdPiBUh"
      },
      "execution_count": null,
      "outputs": []
    }
  ]
}