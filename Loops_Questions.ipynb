{
  "nbformat": 4,
  "nbformat_minor": 0,
  "metadata": {
    "colab": {
      "name": "Loops Questions.ipynb",
      "provenance": [],
      "collapsed_sections": [],
      "authorship_tag": "ABX9TyPtKQjLdCJKxB+T9X9afii9",
      "include_colab_link": true
    },
    "kernelspec": {
      "name": "python3",
      "display_name": "Python 3"
    },
    "language_info": {
      "name": "python"
    }
  },
  "cells": [
    {
      "cell_type": "markdown",
      "metadata": {
        "id": "view-in-github",
        "colab_type": "text"
      },
      "source": [
        "<a href=\"https://colab.research.google.com/github/Nkbh14/Python-Questions/blob/main/Loops_Questions.ipynb\" target=\"_parent\"><img src=\"https://colab.research.google.com/assets/colab-badge.svg\" alt=\"Open In Colab\"/></a>"
      ]
    },
    {
      "cell_type": "markdown",
      "source": [
        "1) Create a program to display the first 10 even numbers in reverse order in a single line using end parameter of print function.\n",
        "> Note : Use both the loops.\n"
      ],
      "metadata": {
        "id": "gFfusqYjD771"
      }
    },
    {
      "cell_type": "code",
      "execution_count": 1,
      "metadata": {
        "colab": {
          "base_uri": "https://localhost:8080/"
        },
        "id": "02dA-jk3D2Zq",
        "outputId": "05d204d4-f533-4cc1-a71c-864c40b90704"
      },
      "outputs": [
        {
          "output_type": "stream",
          "name": "stdout",
          "text": [
            "20 18 16 14 12 10 8 6 4 2 "
          ]
        }
      ],
      "source": [
        "for i in range(20,0,-2):\n",
        "  print(i,end=' ')"
      ]
    },
    {
      "cell_type": "code",
      "source": [
        "i=20\n",
        "while i>=0:\n",
        "   print(i, end=' ')\n",
        "  i-=2"
      ],
      "metadata": {
        "id": "OyISaDfyEVut"
      },
      "execution_count": null,
      "outputs": []
    },
    {
      "cell_type": "markdown",
      "source": [
        "2) Create a program that displays numbers starting from 20 to 40 with a difference of 5 in a single line using end parameter of print function.\n",
        "> Note : Use both the loops.\n"
      ],
      "metadata": {
        "id": "EaSpzeXzD9nS"
      }
    },
    {
      "cell_type": "code",
      "source": [
        "for i in range(20,41,5):\n",
        "  print(i,end=' ')"
      ],
      "metadata": {
        "colab": {
          "base_uri": "https://localhost:8080/"
        },
        "id": "IewW_szyD-Er",
        "outputId": "cf62e361-bbe7-42db-ff58-9e3765bc8c24"
      },
      "execution_count": 2,
      "outputs": [
        {
          "output_type": "stream",
          "name": "stdout",
          "text": [
            "20 25 30 35 40 "
          ]
        }
      ]
    },
    {
      "cell_type": "code",
      "source": [
        "i=20\n",
        "while i<=40:\n",
        "  print(i, end=' ')\n",
        "  i+=5"
      ],
      "metadata": {
        "colab": {
          "base_uri": "https://localhost:8080/"
        },
        "id": "1_C5VI9eFYry",
        "outputId": "a53e591e-6aa8-4ec7-a605-1730166db1b8"
      },
      "execution_count": 3,
      "outputs": [
        {
          "output_type": "stream",
          "name": "stdout",
          "text": [
            "20 25 30 35 40 "
          ]
        }
      ]
    },
    {
      "cell_type": "markdown",
      "source": [
        "3) Create a program to display the cube of first 5 numbers in single line using end parameter of print function.\n",
        ">Note : Use both the loops.\n"
      ],
      "metadata": {
        "id": "b8Bv2jwyD-V5"
      }
    },
    {
      "cell_type": "code",
      "source": [
        "for i in range(1,6):\n",
        "  print(i**3,end=' ')"
      ],
      "metadata": {
        "colab": {
          "base_uri": "https://localhost:8080/"
        },
        "id": "dPEF30qSD-pb",
        "outputId": "b1e77a02-cddb-4f86-ec0a-6ae3d07ab224"
      },
      "execution_count": 4,
      "outputs": [
        {
          "output_type": "stream",
          "name": "stdout",
          "text": [
            "1 8 27 64 125 "
          ]
        }
      ]
    },
    {
      "cell_type": "code",
      "source": [
        "i=1\n",
        "while i<=5:\n",
        "  print(i**3,end=' ')\n",
        "  i+=1"
      ],
      "metadata": {
        "colab": {
          "base_uri": "https://localhost:8080/"
        },
        "id": "0Ip3ysKOFnYR",
        "outputId": "2756ebb9-44c8-4d22-b353-965d0dc49dba"
      },
      "execution_count": 5,
      "outputs": [
        {
          "output_type": "stream",
          "name": "stdout",
          "text": [
            "1 8 27 64 125 "
          ]
        }
      ]
    },
    {
      "cell_type": "markdown",
      "source": [
        "4) Create a program to display the factorial of a number.\n",
        ">Note : Use both the loops with positive and negative step values."
      ],
      "metadata": {
        "id": "7keupTpoD-9V"
      }
    },
    {
      "cell_type": "code",
      "source": [
        "n=5\n",
        "f=1\n",
        "for i in range(1,n+1):\n",
        "  f=f*i\n",
        "print(f)"
      ],
      "metadata": {
        "colab": {
          "base_uri": "https://localhost:8080/"
        },
        "id": "2KFWR8lcD_O4",
        "outputId": "937f1378-8492-4113-9fe4-2d4553087c67"
      },
      "execution_count": 6,
      "outputs": [
        {
          "output_type": "stream",
          "name": "stdout",
          "text": [
            "120\n"
          ]
        }
      ]
    },
    {
      "cell_type": "code",
      "source": [
        "n=5\n",
        "f=1\n",
        "i=1\n",
        "while i<=n:\n",
        "  f=f*i \n",
        "  i+=1\n",
        "print(f)"
      ],
      "metadata": {
        "colab": {
          "base_uri": "https://localhost:8080/"
        },
        "id": "XMVqLhzbF2eQ",
        "outputId": "c1674f0b-2dd6-44ba-bc9e-ee937ba4904c"
      },
      "execution_count": 7,
      "outputs": [
        {
          "output_type": "stream",
          "name": "stdout",
          "text": [
            "120\n"
          ]
        }
      ]
    },
    {
      "cell_type": "markdown",
      "source": [
        "5) Create a program that keeps on accepting input from user until 0 is entered and print the sum of all the numbers entered at the end.\n"
      ],
      "metadata": {
        "id": "aHF2Mr3xD_gS"
      }
    },
    {
      "cell_type": "code",
      "source": [
        "i=0\n",
        "while True:\n",
        "  a=int(input('Enter Value: '))\n",
        "  i=i+a\n",
        "  if a==0:\n",
        "    print(' Total of input is: ',i)\n",
        "    break"
      ],
      "metadata": {
        "colab": {
          "base_uri": "https://localhost:8080/"
        },
        "id": "kKWoIoHVD_wm",
        "outputId": "02f1892f-209f-4c4f-87f5-7e03552dcb47"
      },
      "execution_count": 8,
      "outputs": [
        {
          "output_type": "stream",
          "name": "stdout",
          "text": [
            "Enter Value: 5\n",
            "Enter Value: 6\n",
            "Enter Value: 2\n",
            "Enter Value: 4\n",
            "Enter Value: 0\n",
            " Total of input is:  17\n"
          ]
        }
      ]
    },
    {
      "cell_type": "markdown",
      "source": [
        "6) Create a program to print the following series for n terms where n is the number taken from the user.\n",
        "> Series : 2,22,222,2222,...... n terms"
      ],
      "metadata": {
        "id": "w1TqtdyMD__t"
      }
    },
    {
      "cell_type": "code",
      "source": [
        "number=int(input('Enter any number here : '))\n",
        "for i in range (1,n+1):\n",
        "  print(i*'2' , end=',')"
      ],
      "metadata": {
        "colab": {
          "base_uri": "https://localhost:8080/"
        },
        "id": "mG6H5TSzHY6K",
        "outputId": "e3803c53-d580-4e48-979b-7879d7be40e4"
      },
      "execution_count": 29,
      "outputs": [
        {
          "output_type": "stream",
          "name": "stdout",
          "text": [
            "Enter any number here : 8\n",
            "2,22,222,2222,22222,222222,2222222,22222222,"
          ]
        }
      ]
    },
    {
      "cell_type": "markdown",
      "source": [
        "7) Create a program that displays the first number divisible by 5 between 6 to 16 and then break the loop.\n",
        ">Note : Use both the loops.\n"
      ],
      "metadata": {
        "id": "QwGZCob_EAdp"
      }
    },
    {
      "cell_type": "code",
      "source": [
        "for i in range(6,16):\n",
        "  if i%5==0:\n",
        "    print(i)\n",
        "    break"
      ],
      "metadata": {
        "colab": {
          "base_uri": "https://localhost:8080/"
        },
        "id": "4EF1fSlIEArm",
        "outputId": "8f11895d-0143-46bb-f628-6bcfa895ebea"
      },
      "execution_count": 30,
      "outputs": [
        {
          "output_type": "stream",
          "name": "stdout",
          "text": [
            "10\n"
          ]
        }
      ]
    },
    {
      "cell_type": "code",
      "source": [
        "var=6\n",
        "while var<16 :\n",
        "  if var%5==0:\n",
        "    print(var)\n",
        "    break\n",
        "  var+=1\n"
      ],
      "metadata": {
        "colab": {
          "base_uri": "https://localhost:8080/"
        },
        "id": "t0BBB6rLJPyp",
        "outputId": "75ca6b34-0e0e-4675-ea2b-c1cc82667500"
      },
      "execution_count": 32,
      "outputs": [
        {
          "output_type": "stream",
          "name": "stdout",
          "text": [
            "10\n"
          ]
        }
      ]
    },
    {
      "cell_type": "markdown",
      "source": [
        "8) Create a program that replicates the following output :\n",
        "> Note : Use both the loops.\n",
        ">> The Multiplication Table of 2\n",
        "* 2 x 1 = 2\n",
        "* .\n",
        ">>The Multiplication Table of 3\n",
        "* 3 x 1 = 3\n",
        "* .\n",
        ">> The Multiplication Table of 4\n",
        "* 4 x 1 = 4"
      ],
      "metadata": {
        "id": "JUD4nnavJxNI"
      }
    },
    {
      "cell_type": "code",
      "source": [
        "for a in range(2,5):\n",
        "  print('The Multiplication Table of ', a)\n",
        "  for i in range (1,11):\n",
        "    print(a,'X',i,'=',i*a)"
      ],
      "metadata": {
        "colab": {
          "base_uri": "https://localhost:8080/"
        },
        "id": "iMFsrUv5Jmi4",
        "outputId": "9baa4d45-f464-4a78-976f-6186e7561a92"
      },
      "execution_count": 33,
      "outputs": [
        {
          "output_type": "stream",
          "name": "stdout",
          "text": [
            "The Multiplication Table of  2\n",
            "2 X 1 = 2\n",
            "2 X 2 = 4\n",
            "2 X 3 = 6\n",
            "2 X 4 = 8\n",
            "2 X 5 = 10\n",
            "2 X 6 = 12\n",
            "2 X 7 = 14\n",
            "2 X 8 = 16\n",
            "2 X 9 = 18\n",
            "2 X 10 = 20\n",
            "The Multiplication Table of  3\n",
            "3 X 1 = 3\n",
            "3 X 2 = 6\n",
            "3 X 3 = 9\n",
            "3 X 4 = 12\n",
            "3 X 5 = 15\n",
            "3 X 6 = 18\n",
            "3 X 7 = 21\n",
            "3 X 8 = 24\n",
            "3 X 9 = 27\n",
            "3 X 10 = 30\n",
            "The Multiplication Table of  4\n",
            "4 X 1 = 4\n",
            "4 X 2 = 8\n",
            "4 X 3 = 12\n",
            "4 X 4 = 16\n",
            "4 X 5 = 20\n",
            "4 X 6 = 24\n",
            "4 X 7 = 28\n",
            "4 X 8 = 32\n",
            "4 X 9 = 36\n",
            "4 X 10 = 40\n"
          ]
        }
      ]
    }
  ]
}