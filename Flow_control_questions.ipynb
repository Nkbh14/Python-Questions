{
  "nbformat": 4,
  "nbformat_minor": 0,
  "metadata": {
    "colab": {
      "name": "Flow control questions.ipynb",
      "provenance": [],
      "collapsed_sections": []
    },
    "kernelspec": {
      "name": "python3",
      "display_name": "Python 3"
    },
    "language_info": {
      "name": "python"
    }
  },
  "cells": [
    {
      "cell_type": "markdown",
      "source": [
        "1) Fill in the blanks with the boolean operators in the following code snippet to get the desired output :\n",
        ">Code Snippet\tOutput \n",
        "\n",
        "\n",
        "*   True __ True\tTrue\n",
        "*   ( 1 > 2 ) __ ( 55 < 54)\tFalse\n",
        "*   ( 55 / 2 ) __ True\tTrue\n",
        "*   __ ( 10 > 5 )\tFalse\n",
        "\n",
        "\n",
        "\n"
      ],
      "metadata": {
        "id": "frF5umFo-KJZ"
      }
    },
    {
      "cell_type": "code",
      "execution_count": null,
      "metadata": {
        "colab": {
          "base_uri": "https://localhost:8080/"
        },
        "id": "7b8xSmIR-ErT",
        "outputId": "a59c76ed-2af0-4dec-d600-3265c9a4030b"
      },
      "outputs": [
        {
          "output_type": "execute_result",
          "data": {
            "text/plain": [
              "False"
            ]
          },
          "metadata": {},
          "execution_count": 1
        }
      ],
      "source": [
        "True or True\n",
        "( 1 > 2 ) or ( 55 < 54)\t\n",
        "( 55 / 2 ) and True\n",
        "not ( 10 > 5 )\t"
      ]
    },
    {
      "cell_type": "markdown",
      "source": [
        "2) Create a program that asks the user to enter the net worth of Mark Zuckerberg and display the specific message as mentioned in the table below according to the input from the user.\n",
        "\n",
        "1. Note : Make sure you enter the appropriate message in input \n",
        "function that assists user in entering the values.\n",
        "\n",
        "2. Note : Do not enter commas when entering the number.\n",
        "\n",
        " Net Worth\tDisplay\n",
        "* = 54500000000\tThat's 54.5 billion!\n",
        "* < 54500000000\tThat's not much!\n",
        "* '> 54500000000\tI'll make more when I graduate"
      ],
      "metadata": {
        "id": "tzUYdCgP-59a"
      }
    },
    {
      "cell_type": "code",
      "source": [
        "net_worth=int(input('Enter the net worth of Mark Zuckerberg: '))\n",
        "if net_worth==54500000000:\n",
        "  print(\"That's 54.5 billion!\")\n",
        "elif net_worth<54500000000:\n",
        "  print(\"That's not much!\")\n",
        "else:\n",
        "  print(\"I'll make more when I graduate.\")"
      ],
      "metadata": {
        "colab": {
          "base_uri": "https://localhost:8080/"
        },
        "id": "zmm-ODQ3-zqN",
        "outputId": "188a9bd3-179d-4055-b139-a146cd49b1d3"
      },
      "execution_count": null,
      "outputs": [
        {
          "output_type": "stream",
          "name": "stdout",
          "text": [
            "Enter the net worth of Mark Zuckerberg: 523648895\n",
            "That's not much!\n"
          ]
        }
      ]
    },
    {
      "cell_type": "markdown",
      "source": [
        "3) Create a program to accept the cost price of a bike and display the total price of the bike including the tax to be paid according to the following criteria :\n",
        ">Note : Make sure you enter the appropriate message in input function that assists user in entering the values.\n",
        ">>Cost price (in Rs)\tTax\n",
        " * '> 100000\t15 %\n",
        " * '> 50000 and <= 100000\t10%\n",
        " * <= 50000\t5%\n",
        "\n",
        "\n",
        "\n"
      ],
      "metadata": {
        "id": "xVBQANE8_pm7"
      }
    },
    {
      "cell_type": "code",
      "source": [
        "cost_prize_of_bike=int(input('Enter the cost price of bike: '))\n",
        "if cost_prize_of_bike>10000:\n",
        "  tax=cost_prize_of_bike*15/100\n",
        "  print('Tax rate is 15% ' ,tax, 'Total price is ',cost_prize_of_bike+tax)\n",
        "elif 100000>=cost_prize_of_bike>50000:\n",
        "  tax=cost_prize_of_bike*10/100\n",
        "  print('Tax rate is 10% ',tax,'Total price is ', cost_prize_of_bike+tax)\n",
        "elif cost_prize_of_bike<=50000:\n",
        "  tax=cost_prize_of_bike*5/100\n",
        "  Print('Tax rate is 5% ',tax,'Total price is ',cost_prize_of_bike+tax)"
      ],
      "metadata": {
        "colab": {
          "base_uri": "https://localhost:8080/"
        },
        "id": "cN-gXJA6_h8z",
        "outputId": "408e5063-e5ac-4e72-9316-5dcbdd0d2f69"
      },
      "execution_count": null,
      "outputs": [
        {
          "output_type": "stream",
          "name": "stdout",
          "text": [
            "Enter the cost price of bike: 8652000\n",
            "Tax rate is 15%  1297800.0 Total price is  9949800.0\n"
          ]
        }
      ]
    },
    {
      "cell_type": "markdown",
      "source": [
        "4) A student needs to have an attendance of atleast 75% to be allowed to sit for the exams. Create a program to check if the student satisfies this attendance criteria to sit for the exams by taking 2 inputs from the user and display the necessary output message along with the attendance in percentage using the print function.\n",
        "> Note : Make sure you enter the appropriate message in input function that assists user in entering the values.\n",
        ">> Hint : Take the user inputs for the following :\n",
        "* Number of classes held\n",
        "* Number of classes attended.\n"
      ],
      "metadata": {
        "id": "3VZryO-sATnT"
      }
    },
    {
      "cell_type": "code",
      "source": [
        "Number_of_classes_held=int(input('Enter total number of classes held.'))\n",
        "Number_of_classes_attended=int(input('Enter number of classes attented by student.'))\n",
        "Attendance_percentage=Number_of_classes_attended/Number_of_classes_held*100\n",
        "\n",
        "if Attendance_percentage>=75:\n",
        "  print('You can sit for exam')\n",
        "else:\n",
        "  print('You can not sit for the exam')\n"
      ],
      "metadata": {
        "colab": {
          "base_uri": "https://localhost:8080/"
        },
        "id": "oQOXl_50AHjV",
        "outputId": "7aaa9289-f79e-4b5a-ecef-29045af1191d"
      },
      "execution_count": null,
      "outputs": [
        {
          "output_type": "stream",
          "name": "stdout",
          "text": [
            "Enter total number of classes held.142\n",
            "Enter number of classes attented by student.131\n",
            "You can sit for exam\n"
          ]
        }
      ]
    },
    {
      "cell_type": "markdown",
      "source": [
        "5) Create a program that displays the wages of worker depending on their age, gender (‘M’, ‘F’) and number of days they work accodring to the criteria mentioned in the table below:\n",
        "> Note : Make sure you enter the appropriate message in input function that assists user in entering the values.\n",
        ">> * '>=18 and <30            \n",
        "                     M             700 \n",
        "                     F             750\n",
        " '>=30 and <=40            \n",
        "                     M             800\n",
        "                     F             850\n",
        " "
      ],
      "metadata": {
        "id": "jelTt5oZArXt"
      }
    },
    {
      "cell_type": "code",
      "source": [
        "Number_of_days=int(input('Enter number of work days: '))\n",
        "Gender=input('Enter F or M : ')\n",
        "if 30>Number_of_days>=18:\n",
        "  if Gender=='M':\n",
        "    print('Wage is ', Number_of_days*700)\n",
        "  elif Gender=='F':\n",
        "    print('Wage is ', Number_of_days*750 )\n",
        "elif 30<=Number_of_days<=40:\n",
        "  if Gender=='M':\n",
        "    print('Wage is ',Number_of_days*800)\n",
        "  elif Gender=='F':\n",
        "    print('Wage is ' , Number_of_days*850)"
      ],
      "metadata": {
        "colab": {
          "base_uri": "https://localhost:8080/"
        },
        "id": "4EFlQRIhAjA9",
        "outputId": "e82607ea-96f3-466c-a872-0ea70899088a"
      },
      "execution_count": null,
      "outputs": [
        {
          "output_type": "stream",
          "name": "stdout",
          "text": [
            "Enter number of work days: 28\n",
            "Enter F or M : M\n",
            "Wage is  19600\n"
          ]
        }
      ]
    },
    {
      "cell_type": "markdown",
      "source": [
        "6) Create a program to check if a given year is leap year or not.\n",
        "* Note : Make sure you enter the appropriate message in input function that assists user in entering the values.\n",
        "* Note : Google to check all the conditions for a year to be a leap year."
      ],
      "metadata": {
        "id": "XfBADtHMBVui"
      }
    },
    {
      "cell_type": "code",
      "source": [
        "year=int(input('Enter a year here: '))\n",
        "if year%400==0:\n",
        "  print('leap year')\n",
        "elif year%4==0 and year%100!=0:\n",
        "  print('leap year')\n",
        "else: \n",
        "  print('Not a leap year')\n",
        "\n"
      ],
      "metadata": {
        "colab": {
          "base_uri": "https://localhost:8080/"
        },
        "id": "TZZdpOIjBHCV",
        "outputId": "16fa480d-7bda-4667-ff4f-d5d229f27256"
      },
      "execution_count": null,
      "outputs": [
        {
          "output_type": "stream",
          "name": "stdout",
          "text": [
            "Enter a year here: 2400\n",
            "leap year\n"
          ]
        }
      ]
    },
    {
      "cell_type": "markdown",
      "source": [
        "7) Create a program that accepts the number of days from the user and calculates the charge for library according to the following table :\n",
        ">Note : Make sure you enter the appropriate message in input function that assists user in entering the values.\n",
        ">> Number of Days\tCost / day\n",
        "* Till 5 days\tRs 2 / day\n",
        "* 6 to 10 days\tRs 3 / day\n",
        "* 11 to 15 days\tRs 4 / day\n",
        "* After 15 days\tRs 5 / day"
      ],
      "metadata": {
        "id": "UdF3AMAMBsCV"
      }
    },
    {
      "cell_type": "code",
      "source": [
        "number_of_days=int(input('Enter number of days'))\n",
        "if number_of_days<=5:\n",
        "  print('Rate is Rs 2/per day', ' Total is: ', number_of_days*2)\n",
        "elif 6<=number_of_days<=10:\n",
        "  print('Rate is Rs 3/per day', ' Total is: ',number_of_days*3)\n",
        "elif 11<=number_of_days<=15:\n",
        "  print('Rate is Rs 4/per day', ' Total is: ',number_of_days*4)\n",
        "elif number_of_days>15:\n",
        "  print('Rate is Rs 5/per day', ' Total is: ',number_of_days*5)"
      ],
      "metadata": {
        "colab": {
          "base_uri": "https://localhost:8080/"
        },
        "id": "Nizn_p0UBj5I",
        "outputId": "48420491-79a0-42b1-eea9-430a550339bf"
      },
      "execution_count": null,
      "outputs": [
        {
          "output_type": "stream",
          "name": "stdout",
          "text": [
            "Enter number of days15\n",
            "Rate is Rs 4/per day  Total is:  60\n"
          ]
        }
      ]
    },
    {
      "cell_type": "markdown",
      "source": [
        "8) Create a program that accepts the electric units from user and calculates the bill according to the following rates:\n",
        ">  Note : Make sure you enter the appropriate message in input function that assists user in entering the values.\n",
        ">> Example :\n",
        ">>>Number of Unit :550\n",
        "Total Bill : 0 +400+1250 = 1650\n",
        ">>>>Range of Units\tCost / unit\n",
        "* First 100\tFree\n",
        "* Next 200\tRs 2 / unit\n",
        "* Above 300\tRs 5 / unit\n"
      ],
      "metadata": {
        "id": "GaM_lswIBtw2"
      }
    },
    {
      "cell_type": "code",
      "source": [
        "Electric_unit=int(input('Enter your electric units here:  '))\n",
        "if Electric_unit<=100:\n",
        "  print('First 100 units are Free, your Bill amount is: ', 0)\n",
        "elif 100<=Electric_unit<=200:\n",
        "  bill=(Electric_unit-100)*2\n",
        "  print('First 100 units are\tFree, Next 200\tRs 2 / unit, your Bill amount is: ',bill)\n",
        "elif Electric_unit>=300:\n",
        "  i=(Electric_unit-300)*5\n",
        "  j=(Electric_unit-(100+(Electric_unit-300)))*2\n",
        "  print('First 100 units are\tFree, Next 200\tRs 2 / unit, Above 300\tRs 5 / unit, your Bill amount is: ',(i+j))"
      ],
      "metadata": {
        "colab": {
          "base_uri": "https://localhost:8080/"
        },
        "id": "eNsgZ4RvBuMb",
        "outputId": "c4fad49b-4fd7-4520-dd76-bb48837bd53e"
      },
      "execution_count": null,
      "outputs": [
        {
          "output_type": "stream",
          "name": "stdout",
          "text": [
            "Enter your electric units here:  550\n",
            "First 100 units are\tFree, Next 200\tRs 2 / unit, Above 300\tRs 5 / unit, your Bill amount is:  1650\n"
          ]
        }
      ]
    }
  ]
}