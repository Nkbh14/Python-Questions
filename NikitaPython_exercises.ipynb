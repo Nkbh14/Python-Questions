{
  "cells": [
    {
      "cell_type": "markdown",
      "metadata": {
        "id": "view-in-github",
        "colab_type": "text"
      },
      "source": [
        "<a href=\"https://colab.research.google.com/github/Nkbh14/Python-Questions/blob/main/NikitaPython_exercises.ipynb\" target=\"_parent\"><img src=\"https://colab.research.google.com/assets/colab-badge.svg\" alt=\"Open In Colab\"/></a>"
      ]
    },
    {
      "cell_type": "markdown",
      "metadata": {
        "id": "_6kKfpDpwVfA"
      },
      "source": [
        "## ***Expressions Practice Questions***\n",
        "\n",
        "\n"
      ]
    },
    {
      "cell_type": "code",
      "execution_count": null,
      "metadata": {
        "colab": {
          "base_uri": "https://localhost:8080/"
        },
        "id": "KJMKAvFVwGvv",
        "outputId": "435daeda-b367-4957-8903-b1e2c7dc281e"
      },
      "outputs": [
        {
          "data": {
            "text/plain": [
              "0"
            ]
          },
          "execution_count": 1,
          "metadata": {},
          "output_type": "execute_result"
        }
      ],
      "source": [
        "# Add parentheses to the following expression so that it evaluates to 0.\n",
        "#         8 - 3 * 2 - 1 + 1\n",
        "8-3*2-(1+1)"
      ]
    },
    {
      "cell_type": "code",
      "execution_count": null,
      "metadata": {
        "colab": {
          "base_uri": "https://localhost:8080/"
        },
        "id": "lOpCLSYRpm4u",
        "outputId": "d0b97d47-bf3f-4acc-e56c-add69fe40beb"
      },
      "outputs": [
        {
          "data": {
            "text/plain": [
              "2850.0"
            ]
          },
          "execution_count": 2,
          "metadata": {},
          "output_type": "execute_result"
        }
      ],
      "source": [
        "# Implement Simple Interest Formula : S.I. = P × R × T\n",
        "P = 1500\n",
        "R = 9.5\n",
        "T = 20\n",
        "SI=P*R*T/100\n",
        "\n",
        "SI"
      ]
    },
    {
      "cell_type": "code",
      "execution_count": null,
      "metadata": {
        "colab": {
          "base_uri": "https://localhost:8080/"
        },
        "id": "DL83mNUeqLUV",
        "outputId": "bb37ddb3-3ab2-41ec-cfe1-c1285db5d825"
      },
      "outputs": [
        {
          "data": {
            "text/plain": [
              "36387.0"
            ]
          },
          "execution_count": 3,
          "metadata": {},
          "output_type": "execute_result"
        }
      ],
      "source": [
        "# Try to implement Compound Interest Formula : V = P(1+r/n)^nt=\n",
        "P = 1500\n",
        "r = 0.043\n",
        "n = 4\n",
        "t = 6\n",
        "\n",
        "V=P*(1+r/n)*n*t\n",
        "V"
      ]
    },
    {
      "cell_type": "code",
      "execution_count": null,
      "metadata": {
        "colab": {
          "base_uri": "https://localhost:8080/"
        },
        "id": "q3uW87Rcqung",
        "outputId": "be1ee1d3-30b4-48cb-ad96-246391fb9917"
      },
      "outputs": [
        {
          "data": {
            "text/plain": [
              "487.4"
            ]
          },
          "execution_count": 4,
          "metadata": {},
          "output_type": "execute_result"
        }
      ],
      "source": [
        "# Implement Fahrenheit to Celsius conversion formula : F = ( C x 9 / 5 ) + 32\n",
        "# C = 253\n",
        "C=253\n",
        "F = ( C * 9 / 5 ) + 32\n",
        "F"
      ]
    },
    {
      "cell_type": "code",
      "execution_count": null,
      "metadata": {
        "id": "E375GCCQrDR2"
      },
      "outputs": [],
      "source": [
        "# Create 2 variables and assign values like name and surname from the user. Then concatenate these 2 variables and display using print function.\n",
        "name=input()\n",
        "surname=input()\n",
        "print(name+surname)"
      ]
    },
    {
      "cell_type": "code",
      "execution_count": null,
      "metadata": {
        "id": "KkvUuvkErmpc"
      },
      "outputs": [],
      "source": [
        "# Create 2 variables and assign values like birth month and birth year from the user. Display these 2 variables and the length of these variables inside a single print function.\n",
        "birth_month=input()\n",
        "birth_year=input()\n",
        "print('Length of birth month', birth_month,'is', len(birth_month) , 'Length of birth year ', birth_year,'is ', len(birth_year))"
      ]
    },
    {
      "cell_type": "code",
      "execution_count": null,
      "metadata": {
        "id": "VdWGxCBrsSqT"
      },
      "outputs": [],
      "source": [
        "# Create 2 variables and assign values of user's favourite IPL team and any number between 1 - 10. Display the name of this favourite IPL team as many times as the number they pick from 1 - 10.\n",
        "\n",
        "# Note : Pass the message in the input function for taking information from the user.\n",
        "IPL_teams=input('Enter your fev IPL team ')\n",
        "N=int(input('Enter any number between 1-10. '))\n",
        "print(IPL_teams*N)"
      ]
    },
    {
      "cell_type": "code",
      "execution_count": null,
      "metadata": {
        "id": "fYg1E6ENua1g"
      },
      "outputs": [],
      "source": [
        "# Create 4 variables and take input from user for information like height, weight, age and a number from 1 - 10. Display the results of true division, floor division and exponentiation of height, \n",
        "#weight and age with the number selected from 1 - 10 concatenated together inside a print function respectively.\n",
        "# Note : Pass the message in the input function for taking information from the user. Hint : Concatenate string \\n to display output on new line.\n",
        "\n",
        "height=int(input('Enter your height'))\n",
        "weight=int(input('Enter your weight'))\n",
        "age=int(input('Enter your age'))\n",
        "N=int(input('Enter any number from 1-10. '))\n",
        "\n",
        "print('Height true division: '+str(height/N) ,'Floor division: '+str(height//N),'Exponentiation: ' +str(height**N))\n",
        "print('Weight true division: '+str(weight/N) ,'Floor division: '+str(weight//N),'Exponentiation: ' +str(weight**N))\n",
        "print('Age true division: '+str(age/N) ,'Floor division: '+str(age//N),'Exponentiation: ' +str(age**N))\n"
      ]
    },
    {
      "cell_type": "code",
      "execution_count": null,
      "metadata": {
        "id": "_MAo8xvDg76m"
      },
      "outputs": [],
      "source": []
    },
    {
      "cell_type": "code",
      "execution_count": null,
      "metadata": {
        "colab": {
          "background_save": true
        },
        "id": "YHPaKHHk1Pk_",
        "outputId": "7c18e858-808f-44d9-b606-5de0221f2c67"
      },
      "outputs": [
        {
          "data": {
            "application/vnd.google.colaboratory.intrinsic+json": {
              "type": "string"
            },
            "text/plain": [
              "'[12, 34]'"
            ]
          },
          "execution_count": null,
          "metadata": {},
          "output_type": "execute_result"
        }
      ],
      "source": [
        "x=[12,34]\n",
        "str(x)"
      ]
    },
    {
      "cell_type": "code",
      "source": [],
      "metadata": {
        "id": "Hp4pIAyOKy2L"
      },
      "execution_count": null,
      "outputs": []
    },
    {
      "cell_type": "markdown",
      "metadata": {
        "id": "UDi0mDwPphE-"
      },
      "source": [
        "## ***Flow Control Practice Questions***"
      ]
    },
    {
      "cell_type": "code",
      "execution_count": null,
      "metadata": {
        "id": "X5FTDKvWwEty",
        "outputId": "1fa5ac0e-6640-4a2b-c10d-9748f7da72ba",
        "colab": {
          "base_uri": "https://localhost:8080/"
        }
      },
      "outputs": [
        {
          "output_type": "execute_result",
          "data": {
            "text/plain": [
              "False"
            ]
          },
          "metadata": {},
          "execution_count": 1
        }
      ],
      "source": [
        "# #Fill in the blanks with the boolean operators in the following code snippet to get the desired output :\n",
        "# #Code Snippet\tOutput\n",
        "# True __ True\tTrue\n",
        "# ( 1 > 2 ) __ ( 55 < 54)\tFalse\n",
        "# ( 55 / 2 ) __ True\tTrue\n",
        "# __ ( 10 > 5 )\tFalse\n",
        "True or True\n",
        "( 1 > 2 ) or ( 55 < 54)\t\n",
        "( 55 / 2 ) and True\n",
        "not ( 10 > 5 )\t"
      ]
    },
    {
      "cell_type": "code",
      "execution_count": null,
      "metadata": {
        "id": "mK-LKF64xcO4"
      },
      "outputs": [],
      "source": [
        "# Create a program that asks the user to enter the net worth of Mark Zuckerberg and display the specific message as mentioned in the table below according to the input from the user.\n",
        "\n",
        "# Note : Make sure you enter the appropriate message in input function that assists user in entering the values.\n",
        "\n",
        "# Note : Do not enter commas when entering the number.\n",
        "\n",
        "# Net Worth\tDisplay\n",
        "# = 54500000000\tThat's 54.5 billion!\n",
        "# < 54500000000\tThat's not much!\n",
        "# > 54500000000\tI'll make more when I graduate\n",
        "net_worth=int(input('Enter the net worth of Mark Zuckerberg: '))\n",
        "if net_worth==54500000000:\n",
        "  print(\"That's 54.5 billion!\")\n",
        "elif net_worth<54500000000:\n",
        "  print(\"That's not much!\")\n",
        "else:\n",
        "  print(\"I'll make more when I graduate.\")"
      ]
    },
    {
      "cell_type": "code",
      "execution_count": null,
      "metadata": {
        "id": "hNzN3sATw_fw"
      },
      "outputs": [],
      "source": [
        "# Create a program to accept the cost price of a bike and display the total price of the bike including the tax to be paid according to the following criteria :\n",
        "# Note : Make sure you enter the appropriate message in input function that assists user in entering the values.\n",
        "# Cost price (in Rs)\tTax\n",
        "# > 100000\t15 %\n",
        "# > 50000 and <= 100000\t10%\n",
        "# <= 50000\t5%\n",
        "\n",
        "cost_prize_of_bike=int(input('Enter the cost price of bike: '))\n",
        "if cost_prize_of_bike>10000:\n",
        "  tax=cost_prize_of_bike*15/100\n",
        "  print('Tax rate is 15% ' ,tax, 'Total price is ',cost_prize_of_bike+tax)\n",
        "elif 100000>=cost_prize_of_bike>50000:\n",
        "  tax=cost_prize_of_bike*10/100\n",
        "  print('Tax rate is 10% ',tax,'Total price is ', cost_prize_of_bike+tax)\n",
        "elif cost_prize_of_bike<=50000:\n",
        "  tax=cost_prize_of_bike*5/100\n",
        "  Print('Tax rate is 5% ',tax,'Total price is ',cost_prize_of_bike+tax)\n",
        "\n"
      ]
    },
    {
      "cell_type": "code",
      "execution_count": null,
      "metadata": {
        "id": "VPA9TN3kxBWP"
      },
      "outputs": [],
      "source": [
        "# A student needs to have an attendance of atleast 75% to be allowed to sit for the exams. Create a program to check if the student satisfies this attendance criteria to sit for the exams by taking 2 inputs from the user and display the necessary output message along with the attendance in percentage using the print function.\n",
        "# Note : Make sure you enter the appropriate message in input function that assists user in entering the values.\n",
        "# Hint : Take the user inputs for the following :\n",
        "# Number of classes held\n",
        "# Number of classes attended.\n",
        "\n",
        "Number_of_classes_held=int(input('Enter total number of classes held.'))\n",
        "Number_of_classes_attended=int(input('Enter number of classes attented by student.'))\n",
        "Attendance_percentage=Number_of_classes_attended/Number_of_classes_held*100\n",
        "if Attendance_percentage>=75:\n",
        "  print('You can sit for exam')\n",
        "else:\n",
        "  print('You can not sit for the exam')\n"
      ]
    },
    {
      "cell_type": "code",
      "execution_count": null,
      "metadata": {
        "id": "lpO_eiunxBzn"
      },
      "outputs": [],
      "source": [
        "# Create a program that displays the wages of worker depending on their age, gender (‘M’, ‘F’) and number of days they work accodring to the criteria mentioned in the table below:\n",
        "# Note : Make sure you enter the appropriate message in input function that assists user in entering the values.\n",
        "# >=18 and <30             \n",
        "#                     M             700 \n",
        "#                     F             750\n",
        "# >=30 and <=40            \n",
        "#                     M             800\n",
        "#                     F             850\n",
        " \n",
        "Number_of_days=int(input('Enter number of work days: '))\n",
        "Gender=input('Enter F or M : ')\n",
        "if 30>Number_of_days>=18:\n",
        "  if Gender=='M':\n",
        "    print('Wage is ', Number_of_days*700)\n",
        "  elif Gender=='F':\n",
        "    print('Wage is ', Number_of_days*750 )\n",
        "elif 30<=Number_of_days<=40:\n",
        "  if Gender=='M':\n",
        "    print('Wage is ',Number_of_days*800)\n",
        "  elif Gender=='F':\n",
        "    print('Wage is ' , Number_of_days*850)"
      ]
    },
    {
      "cell_type": "code",
      "execution_count": null,
      "metadata": {
        "id": "5p0kySIx0917"
      },
      "outputs": [],
      "source": [
        "# Create a program to check if a given year is leap year or not.\n",
        "# Note : Make sure you enter the appropriate message in input function that assists user in entering the values.\n",
        "# Note : Google to check all the conditions for a year to be a leap year.\n",
        "year=int(input('Enter a year here: '))\n",
        "if year%400==0:\n",
        "  print('leap year')\n",
        "elif year%4==0 and year%100!=0:\n",
        "  print('leap year')\n",
        "else: \n",
        "  print('Not a leap year')\n",
        "\n"
      ]
    },
    {
      "cell_type": "code",
      "execution_count": null,
      "metadata": {
        "id": "Rh4A6HxK1Fou"
      },
      "outputs": [],
      "source": [
        "# Create a program that accepts the number of days from the user and calculates the charge for library according to the following table :\n",
        "# Note : Make sure you enter the appropriate message in input function that assists user in entering the values.\n",
        "# Number of Days\tCost / day\n",
        "# Till 5 days\tRs 2 / day\n",
        "# 6 to 10 days\tRs 3 / day\n",
        "# 11 to 15 days\tRs 4 / day\n",
        "# After 15 days\tRs 5 / day\n",
        "number_of_days=int(input('Enter number of days'))\n",
        "if number_of_days<=5:\n",
        "  print('Rate is Rs 2/ day', ' Total is: ', number_of_days*2)\n",
        "elif 6<=number_of_days<=10:\n",
        "  print('Rate is Rs 3/ day', ' Total is: ',number_of_days*3)\n",
        "elif 11<=number_of_days<=15:\n",
        "  print('Rate is Rs 4/ day', ' Total is: ',number_of_days*4)\n",
        "elif number_of_days>15:\n",
        "  print('Rate is Rs 5/ day', ' Total is: ',number_of_days*5)"
      ]
    },
    {
      "cell_type": "code",
      "execution_count": null,
      "metadata": {
        "id": "noc0tH5Q1Ot0"
      },
      "outputs": [],
      "source": [
        "# Create a program that accepts the electric units from user and calculates the bill according to the following rates:\n",
        "# Note : Make sure you enter the appropriate message in input function that assists user in entering the values.\n",
        "# Example :\n",
        "# Number of Unit :550\n",
        "# Total Bill : 0 +400+1250 = 1650\n",
        "# Range of Units\tCost / unit\n",
        "# First 100\tFree\n",
        "# Next 200\tRs 2 / unit\n",
        "# Above 300\tRs 5 / unit\n",
        "\n",
        "Electric_unit=int(input('Enter your electric units here:  '))\n",
        "if Electric_unit<=100:\n",
        "  print('First 100 units are Free, your Bill amount is: ', 0)\n",
        "elif 100<=Electric_unit<=200:\n",
        "  bill=(Electric_unit-100)*2\n",
        "  print('First 100 units are\tFree, Next 200\tRs 2 / unit, your Bill amount is: ',bill)\n",
        "elif Electric_unit>=300:\n",
        "  i=(Electric_unit-300)*5\n",
        "  j=(Electric_unit-(100+(Electric_unit-300)))*2\n",
        "  print('First 100 units are\tFree, Next 200\tRs 2 / unit, Above 300\tRs 5 / unit, your Bill amount is: ',(i+j))"
      ]
    },
    {
      "cell_type": "markdown",
      "metadata": {
        "id": "aJyonOPl2BZ-"
      },
      "source": [
        "## **Loops Practice Questions***"
      ]
    },
    {
      "cell_type": "code",
      "execution_count": null,
      "metadata": {
        "id": "zsGJxf792H03"
      },
      "outputs": [],
      "source": [
        "# Create a program to display the first 10 even numbers in reverse order in a single line using end parameter of print function.\n",
        "# Note : Use both the loops.\n",
        "for i in range(20,0,-2):\n",
        "  print(i,end=' ')"
      ]
    },
    {
      "cell_type": "code",
      "execution_count": null,
      "metadata": {
        "id": "8RvIzf8d1mWA"
      },
      "outputs": [],
      "source": [
        "i=20\n",
        "while i>=0:\n",
        "  \n",
        "  print(i, end=' ')\n",
        "  i-=2\n"
      ]
    },
    {
      "cell_type": "code",
      "execution_count": null,
      "metadata": {
        "id": "o9cB5PZv2RCp"
      },
      "outputs": [],
      "source": [
        "# Create a program that displays numbers starting from 20 to 40 with a difference of 5 in a single line using end parameter of print function.\n",
        "# Note : Use both the loops.\n",
        "for i in range(20,41,5):\n",
        "  print(i,end=' ')"
      ]
    },
    {
      "cell_type": "code",
      "execution_count": null,
      "metadata": {
        "id": "isW8GPm35GkB"
      },
      "outputs": [],
      "source": [
        "i=20\n",
        "while i<=40:\n",
        "  print(i, end=' ')\n",
        "  i+=5"
      ]
    },
    {
      "cell_type": "code",
      "execution_count": null,
      "metadata": {
        "id": "5kk0W6U-2Wpe"
      },
      "outputs": [],
      "source": [
        "# Create a program to display the cube of first 5 numbers in single line using end parameter of print function.\n",
        "# Note : Use both the loops.\n",
        "for i in range(1,6):\n",
        "  print(i**3,end=' ')"
      ]
    },
    {
      "cell_type": "code",
      "execution_count": null,
      "metadata": {
        "id": "tqde7AY35iW6"
      },
      "outputs": [],
      "source": [
        "i=1\n",
        "while i<=5:\n",
        "  print(i**3,end=' ')\n",
        "  i+=1"
      ]
    },
    {
      "cell_type": "code",
      "execution_count": null,
      "metadata": {
        "id": "qCK0u4_M2aDQ"
      },
      "outputs": [],
      "source": [
        "# Create a program to display the factorial of a number.\n",
        "# Note : Use both the loops with positive and negative step values.\n",
        "n=5\n",
        "f=1\n",
        "for i in range(1,n+1):\n",
        "  f=f*i\n",
        "print(f)"
      ]
    },
    {
      "cell_type": "code",
      "execution_count": null,
      "metadata": {
        "id": "WmCw7mFFtPK4"
      },
      "outputs": [],
      "source": [
        "n=5\n",
        "f=1\n",
        "for i in range(n,1,-1):\n",
        "  f=f*i\n",
        "print(f)"
      ]
    },
    {
      "cell_type": "code",
      "execution_count": null,
      "metadata": {
        "id": "F0h_FoJ8uPTu"
      },
      "outputs": [],
      "source": [
        "n=5\n",
        "f=1\n",
        "i=1\n",
        "while i<=n:\n",
        "  f=f*i \n",
        "  i+=1\n",
        "print(f)"
      ]
    },
    {
      "cell_type": "code",
      "execution_count": null,
      "metadata": {
        "id": "IvNohjUXuvHP"
      },
      "outputs": [],
      "source": [
        "n=1\n",
        "f=1\n",
        "i=5\n",
        "while i>=n:\n",
        "  f=f*i \n",
        "  i-=1\n",
        "print(f)"
      ]
    },
    {
      "cell_type": "code",
      "execution_count": null,
      "metadata": {
        "id": "Ij4iY6iT2aSo"
      },
      "outputs": [],
      "source": [
        "# Create a program that keeps on accepting input from user until 0 is entered and print the sum of all the numbers entered at the end.\n",
        "i=0\n",
        "while True:\n",
        "  a=int(input('Enter Value: '))\n",
        "  i=i+a\n",
        "  if a==0:\n",
        "    print(' Total of input is: ',i)\n",
        "    break"
      ]
    },
    {
      "cell_type": "code",
      "execution_count": null,
      "metadata": {
        "colab": {
          "base_uri": "https://localhost:8080/"
        },
        "id": "bdI3Twuk2bTQ",
        "outputId": "1aae4364-fb55-432a-c9dc-3e766f5d71ba"
      },
      "outputs": [
        {
          "name": "stdout",
          "output_type": "stream",
          "text": [
            "Enter any number here: 8\n",
            "2,22,222,2222,22222,222222,2222222,22222222,"
          ]
        }
      ],
      "source": [
        "# Create a program to print the following series for n terms where n is the number taken from the user.\n",
        "# Series : 2,22,222,2222,...... n terms\n",
        "n=int(input('Enter any number here: '))\n",
        "for i in range (1,n+1):\n",
        "  print('2'*i, end=',')\n"
      ]
    },
    {
      "cell_type": "code",
      "execution_count": null,
      "metadata": {
        "id": "088B0oel2b88"
      },
      "outputs": [],
      "source": [
        "# Create a program that displays the first number divisible by 5 between 6 to 16 and then break the loop.\n",
        "# Note : Use both the loops.\n",
        "for i in range(6,16):\n",
        "  if i%5==0:\n",
        "    print(i)\n",
        "    break"
      ]
    },
    {
      "cell_type": "code",
      "execution_count": null,
      "metadata": {
        "id": "gaAimznx2cVC"
      },
      "outputs": [],
      "source": [
        "# Create a program that replicates the following output :\n",
        "# Note : Use both the loops.\n",
        "# The Multiplication Table of 2\n",
        "# 2 x 1 = 2\n",
        "# .\n",
        "# The Multiplication Table of 3\n",
        "# 3 x 1 = 3\n",
        "# .\n",
        "# The Multiplication Table of 4\n",
        "# 4 x 1 = 4\n",
        "for a in range(2,5):\n",
        "  print('The Multiplication Table of ', a)\n",
        "  for i in range (1,11):\n",
        "    print(a,'X',i,'=',i*a)"
      ]
    },
    {
      "cell_type": "markdown",
      "metadata": {
        "id": "PqPjj0mZ2fdu"
      },
      "source": [
        "## **Functions Practice Questions**"
      ]
    },
    {
      "cell_type": "code",
      "execution_count": null,
      "metadata": {
        "id": "bv0yh5hbtqmK",
        "colab": {
          "base_uri": "https://localhost:8080/"
        },
        "outputId": "c0d59a87-0a7e-439b-908a-c208eb7bb58d"
      },
      "outputs": [
        {
          "output_type": "stream",
          "name": "stdout",
          "text": [
            "64\n"
          ]
        }
      ],
      "source": [
        "# Create a function to calculate the cube of a number that is passed as the argument to the function.\n",
        "# Example :\n",
        "# def cube(number):\n",
        "#     ### your code here\n",
        "# number = 4\n",
        "# cube(number)\n",
        "# >>> 64\n",
        "def cube(n):\n",
        "  print(n**3)\n",
        "\n",
        "cube(4)"
      ]
    },
    {
      "cell_type": "code",
      "execution_count": null,
      "metadata": {
        "id": "JA5tJKpm3XCx",
        "colab": {
          "base_uri": "https://localhost:8080/"
        },
        "outputId": "f65d82f4-23af-4fa5-fdc3-fad8568d864b"
      },
      "outputs": [
        {
          "output_type": "stream",
          "name": "stdout",
          "text": [
            "5\n"
          ]
        }
      ],
      "source": [
        "# Create a function to calculate the sum of square of 2 numbers that are defined as the default arguments and its square output is 5.\n",
        "# Example :\n",
        "# def square(n1 = value,n2 = value):\n",
        "#     ### your code here\n",
        "# square()\n",
        "# >>> 5\n",
        "\n",
        "def square(n=1,n1=2):\n",
        "  print(n**2+n1**2)\n",
        "\n",
        "\n",
        "square()"
      ]
    },
    {
      "cell_type": "code",
      "execution_count": null,
      "metadata": {
        "id": "TkMwSUuuqr8M",
        "colab": {
          "base_uri": "https://localhost:8080/"
        },
        "outputId": "b931a4a1-2676-40e8-aead-cfb90d0bd4c2"
      },
      "outputs": [
        {
          "output_type": "stream",
          "name": "stdout",
          "text": [
            "120\n"
          ]
        }
      ],
      "source": [
        "# Create a function to calculate the factorial of a number which is passed as an argument and assign the output of the function to a variable named out.\n",
        "# Example :\n",
        "# def factorial(number):\n",
        "#     ### your code here\n",
        "# out = factorial(5)\n",
        "# out\n",
        "# >>> 120\n",
        "\n",
        "def factorial(a):\n",
        "  f=1\n",
        "  for i in range(1,a+1):\n",
        "    f=f*i \n",
        "  print(f)\n",
        "\n",
        "out=factorial(5)\n",
        "out"
      ]
    },
    {
      "cell_type": "code",
      "execution_count": null,
      "metadata": {
        "id": "ITa9n8IIqsSu",
        "colab": {
          "base_uri": "https://localhost:8080/"
        },
        "outputId": "65e6dd01-42f2-4cb3-9aa0-be9a692c215c"
      },
      "outputs": [
        {
          "output_type": "stream",
          "name": "stdout",
          "text": [
            "aiadventuresaiadventuresaiadventures"
          ]
        }
      ],
      "source": [
        "# Correct the syntax of the following function to get the required output.\n",
        "# Note : Make use of all the concepts covered until now.\n",
        "# Example :\n",
        "# defn 123string_concatenation{s1 = 'ai',s2 ,s3 = 3);\n",
        "#     elif s3 == 3;\n",
        "#     s = s1 + s2 * s3\n",
        "#         printf[s,end = '-')\n",
        "#     else;;\n",
        "#     s = s1 + s2 * 1\n",
        "#     printf(s,end = '->'\\\n",
        "#     123string_concat{'adventures']\n",
        "#     >>> 'aiadventuresaiadventuresaiadventures'\n",
        "\n",
        "def string_concatenation(s3,s1='ai', s2=3 ):\n",
        "  if s2==3:\n",
        "      s = (s1 + s3) * s2\n",
        "      print(s,end = '')\n",
        "  else:\n",
        "      s = (s1 + s3) * 1\n",
        "      print(s,end = '')\n",
        "\n",
        "string_concatenation('adventures')"
      ]
    },
    {
      "cell_type": "code",
      "execution_count": null,
      "metadata": {
        "id": "LZD2CLPqvMgF",
        "colab": {
          "base_uri": "https://localhost:8080/"
        },
        "outputId": "022bf4be-33d7-474a-e1af-a6eb384674a1"
      },
      "outputs": [
        {
          "output_type": "stream",
          "name": "stdout",
          "text": [
            "12\n",
            "6.0\n"
          ]
        }
      ],
      "source": [
        "# Create a function to calculate the area of triangle or rectangle using 3 arguments : base, height and shape.\n",
        "# Example :\n",
        "# def calculate_area(base, height,shape):\n",
        "#     ### your code here\n",
        "# b = 2\n",
        "# h = 6\n",
        "# calculate_area(b,h, 'Rectangle')\n",
        "# >>> 12\n",
        "# calculate_area(b,h, 'Triangle')\n",
        "# >>> 6.0\n",
        "\n",
        "def area(b,h,shape):\n",
        "  if shape=='Rectangle':\n",
        "    print(b*h)\n",
        "  elif shape=='Triangle':\n",
        "    print(1/2*b*h)\n",
        "\n",
        "area(2,6,'Rectangle')\n",
        "area(2,6,'Triangle')"
      ]
    },
    {
      "cell_type": "code",
      "execution_count": null,
      "metadata": {
        "id": "nmOo5Z8avMz6"
      },
      "outputs": [],
      "source": [
        "# Create a function that returns None value and display the result of the string concatenation. \n",
        "#You have to take the 2 strings required for the function as argument as shown in the example given below.\n",
        "# Example :\n",
        "# def none_value_assignment(s1 = input(),s2 = input()):\n",
        "#     ### your code here\n",
        "# var1 = none_value_assignment()\n",
        "# type(var1)\n",
        "# >>> result of string concatenation of s1 and s2\n",
        "# >>> NoneType\n",
        "# var2 = none_value_assignment('ai', 'adventures')\n",
        "# type(var2)\n",
        "# >>> aiadventures\n",
        "# >>> NoneType\n",
        "\n",
        "def none_value_assignment(s1 = input(),s2 = input()):\n",
        "  w=s1+s2\n",
        "  print(w)\n",
        "\n",
        "var1 = none_value_assignment()\n",
        "type(var1)\n",
        "# >>> result of string concatenation of s1 and s2\n",
        "# >>> NoneType\n",
        "var2 = none_value_assignment('ai', 'adventures')\n",
        "type(var2)\n",
        "# >>> aiadventures\n",
        "# >>> NoneType"
      ]
    },
    {
      "cell_type": "markdown",
      "source": [],
      "metadata": {
        "id": "2d5C2aGp3nRW"
      }
    },
    {
      "cell_type": "code",
      "execution_count": null,
      "metadata": {
        "id": "P5blGcynqsbE"
      },
      "outputs": [],
      "source": [
        "# Create a function to calculate and display the sum of the following sequence by taking input from user for n.\n",
        "# Sequence : 1 + 1/1! + 1/2! + 1/3! + + 1/n!\n",
        "# Hint : Give a thought above factorial() you have just created a few problems back.\n",
        "# def sequence(n):\n",
        "#     ### your code here\n",
        "# sequence(5)\n",
        "# >>> 2.7166666666666663\n",
        "\n",
        "def sequence(n):\n",
        "  f=1\n",
        "  s1=1\n",
        "  for i in range(1,n+1):\n",
        "    f=f*i\n",
        "    s1=s1+1/f\n",
        "  print(s1)\n",
        "\n",
        "sequence(5)\n",
        "# >>> 2.7166666666666663"
      ]
    },
    {
      "cell_type": "code",
      "execution_count": null,
      "metadata": {
        "id": "xnb6CWrX4mRS"
      },
      "outputs": [],
      "source": [
        "#Sequence : 1 + 1/1! + 1/2! + 1/3! + + 1/n!\n",
        "# Hint : Give a thought above factorial() you have just created a few problems back.\n",
        "f=1\n",
        "n=5\n",
        "s=1\n",
        "for i in range(1,n+1):\n",
        "  f=f*i\n",
        "  s=s+1/f\n",
        "print(s)"
      ]
    },
    {
      "cell_type": "code",
      "execution_count": null,
      "metadata": {
        "id": "ut1lJLoDqsj2"
      },
      "outputs": [],
      "source": [
        "# Create a function to check whether a string is pangram or not.\n",
        "# Pangram Definition : It is a sentence containing all 26 letters of the English alphabets.\n",
        "# Example :\n",
        "# def ispangram(sentence):\n",
        "#     ### your code here\n",
        "# sentence1 = \"a quick brown fox jumps over the lazy dog\"\n",
        "# sentence2 = \"hello my name is ramesh\"\n",
        "# ispangram(sentence1)\n",
        "# >>> True\n",
        "# ispangram(sentence2)\n",
        "# >>> False\n",
        "def ispangram(sentence):\n",
        "  s='abcdefghijklmnopqrstuvwxyz'\n",
        "  for i in s:\n",
        "    if i not in sentence.lower():\n",
        "      return False\n",
        "    \n",
        "  return True\n",
        "\n",
        "sentence1 = \"a quick brown fox jumps over the lazy dog\"\n",
        "ispangram(sentence1)\n"
      ]
    },
    {
      "cell_type": "code",
      "execution_count": null,
      "metadata": {
        "id": "XGUwK89goDqZ"
      },
      "outputs": [],
      "source": [
        "sentence2 = \"hello my name is ramesh\"\n",
        "ispangram(sentence2)"
      ]
    },
    {
      "cell_type": "markdown",
      "metadata": {
        "id": "Vf8LzXGuLEi2"
      },
      "source": [
        "## **Lists Practice Questions**"
      ]
    },
    {
      "cell_type": "code",
      "execution_count": null,
      "metadata": {
        "id": "q-pLgUsVJwlB"
      },
      "outputs": [],
      "source": [
        "# Create a function that will reverse a given list.\n",
        "# Example :\n",
        "# def reverse_list(numbers):\n",
        "#     ### your code here\n",
        "# list1 = [8, 6, 4, 2, 0]\n",
        "# reverse_list(list1)\n",
        "# >>> [0, 2, 4, 6, 8]\n",
        "def reverse_list(number):\n",
        "  l=number.reverse()\n",
        "  print(number)\n",
        "\n",
        "list1 = [8, 6, 4, 2, 0]\n",
        "reverse_list(list1)\n"
      ]
    },
    {
      "cell_type": "code",
      "execution_count": null,
      "metadata": {
        "id": "jDJqG_E4Lv7L"
      },
      "outputs": [],
      "source": [
        "# Create a function that will display the square of every element of the list provided as an argument.\n",
        "# Example :\n",
        "# def square_list(list_numbers):\n",
        "#     ### your code here\n",
        "# list2 = [1, 2, 3, 4, 5]\n",
        "# square_list(list2)\n",
        "# >>> 1\n",
        "#     4\n",
        "#     9\n",
        "#     16\n",
        "#     25\n",
        "def square_list(list):\n",
        "  for i in list:\n",
        "    print(i**2)\n",
        "\n",
        "list2 = [1, 2, 3, 4, 5]\n",
        "square_list(list2)"
      ]
    },
    {
      "cell_type": "code",
      "execution_count": null,
      "metadata": {
        "id": "r5W3mCZMLwPc"
      },
      "outputs": [],
      "source": [
        "# Create a function that will take list of fruits and a new_fruit as 2 arguments. Add the new_fruit into the list of fruits and display the updated list. Also, try adding the new_fruit at the index position 2.\n",
        "# Example :\n",
        "# def to_append(fruits, new_fruit):\n",
        "#  ### your code here\n",
        "# fruits = ['banana', 'orange', 'mango', 'lemon']\n",
        "# new_fruit = 'blueberry'\n",
        "# to_append(fruits, new_fruit)\n",
        "# >>> ['banana', 'orange', 'mango', 'lemon', 'blueberry']\n",
        "# to_append(fruits, new_fruit)\n",
        "# >>> ['banana', 'orange','blueberry' ,'mango', 'lemon',]\n",
        "\n",
        "def to_append(fruits,new_fruit):\n",
        "  fruits.append(new_fruit)\n",
        "  print(fruits)\n",
        "\n",
        "fruits = ['banana', 'orange', 'mango', 'lemon']\n",
        "new_fruit = 'blueberry'\n",
        "to_append(fruits, new_fruit)\n"
      ]
    },
    {
      "cell_type": "code",
      "execution_count": null,
      "metadata": {
        "colab": {
          "base_uri": "https://localhost:8080/"
        },
        "id": "KOqm1W2VLwXh",
        "outputId": "3b07e4a8-1e67-44ec-96be-ad23d04b194d"
      },
      "outputs": [
        {
          "name": "stdout",
          "output_type": "stream",
          "text": [
            "['Vivek', 'Ankur', 'aiadventures', 'Pranav']\n"
          ]
        }
      ],
      "source": [
        "# Create a function that will take a list as an argument and return an updated list after removing empty strings from the list. list3 = [\"Vivek\", \"\", \"Ankur\", \"aiadventures\", \"\", \"Pranav\"].\n",
        "# Example :\n",
        "# def remove_spaces(list_names):\n",
        "#     ### your code here\n",
        "# list3 = [\"Vivek\", \"\", \"Ankur\", \"aiadventures\", \"\", \"Pranav\"]\n",
        "# remove_spaces(list3)\n",
        "# >>> ['Vivek', 'Ankur', 'aiadventures', 'Pranav']\n",
        "def remove_spaces(list_name):\n",
        "  for i in list_name:\n",
        "    if len(i)<=0:\n",
        "      list_name.remove(i)\n",
        "  print(list_name)\n",
        "\n",
        "list3 = [\"Vivek\", \"\", \"Ankur\", \"aiadventures\", \"\", \"Pranav\"]\n",
        "remove_spaces(list3)"
      ]
    },
    {
      "cell_type": "code",
      "execution_count": null,
      "metadata": {
        "id": "vtu5i-tiLwgS"
      },
      "outputs": [],
      "source": [
        "# Create a function that takes 2 lists as arguments and it iterates over both lists simultaneously such that output should display items in original order from 1st list and elements from 2nd list in reverse order.\n",
        "# Note : Please give attention to the output as it doesn't include [] brackets.\n",
        "# Example :\n",
        "# def reverse_list(first, second):\n",
        "#     ### your code here\n",
        "# list4 = [10, 20, 30, 40]\n",
        "# list5 = [100, 200, 300, 400]\n",
        "# reverse_list(list4, list5)\n",
        "# >>> 10 20 30 40 400 300 200 100\n",
        "\n",
        "def reverse_list(first,second):\n",
        "  second.reverse()\n",
        "  print(first+second)\n",
        "\n",
        "\n",
        "\n",
        "list4 = [10, 20, 30, 40]\n",
        "list5 = [100, 200, 300, 400]\n",
        "reverse_list(list4, list5)"
      ]
    },
    {
      "cell_type": "code",
      "execution_count": null,
      "metadata": {
        "id": "PyeB-Je6MlMv"
      },
      "outputs": [],
      "source": [
        "# Create a function that takes 2 lists as arguments and returns a new single list by performing the string replication between the elements of the lists. The elements should be selected in original order from the 1st list and in reverse order from the 2nd list.\n",
        "# Example :\n",
        "# def multiply_elements(first, second):\n",
        "#     ### your code here\n",
        "# list4 = ['Ai', 'Adventures', 'Python', 'ML']\n",
        "# list5 = [1, 2, 3, 4]\n",
        "# reverse_list(list4, list5)\n",
        "# >>> ['AiAiAiAi', 'AdventuresAdventuresAdventures', 'PythonPython','ML']\n",
        "\n",
        "def multiply_elements(first, second):\n",
        "  l=[]\n",
        "  second.reverse()\n",
        "  for i in range(len(first)):\n",
        "    l.append(first[i]*second[i])\n",
        "  print(l)\n",
        "\n",
        "list4 = ['Ai', 'Adventures', 'Python', 'ML']\n",
        "list5 = [1, 2, 3, 4]\n",
        "multiply_elements(list4, list5)"
      ]
    },
    {
      "cell_type": "code",
      "execution_count": null,
      "metadata": {
        "id": "32aTpxYcMzsI"
      },
      "outputs": [],
      "source": [
        "# We're using lists to record people that attended our party and in the order they arrive in. \n",
        "#For example, the following list represents a party with 7 guests, in which Adela showed up first and Ford was the last to arrive:\n",
        "# party_attendees = ['Adela', 'Fleda', 'Owen', 'May', 'Mona', 'Gilbert', 'Ford']\n",
        "# A guest is considered fashionably late if they arrived after at least half of the party's guests. \n",
        "#However, they must not be the very last guest (that's taking it too far). \n",
        "#In the above example, Mona and Gilbert are the only guests who were fashionably late.\n",
        "# Create a function which takes a list of party attendees as well as a person as arguments and displays whether that person is fashionably late or not.\n",
        "# Example :\n",
        "# def fashionably_late(arrivals, name):\n",
        "#     ### your code here\n",
        "# party_attendees = ['Adela', 'Fleda', 'Owen', 'May', 'Mona', 'Gilbert', 'Ford']\n",
        "# fashionably_late(party_attendees, 'Mona')\n",
        "# >>> True\n",
        "# fashionably_late(party_attendees, 'Ford')\n",
        "# >>> False\n",
        "\n",
        "def fashionably_late(arrivals, name):\n",
        "  i=arrivals.index(name)\n",
        "  if i>=(len(arrivals)//2) and i!=len(arrivals)-1:\n",
        "    return True\n",
        "  else:\n",
        "    return False\n",
        "\n",
        "\n",
        "\n",
        "party_attendees = ['Adela', 'Fleda', 'Owen', 'May', 'Mona', 'Gilbert', 'Ford']\n",
        "fashionably_late(party_attendees, 'Mona')"
      ]
    },
    {
      "cell_type": "code",
      "execution_count": null,
      "metadata": {
        "id": "RxYspg08DZNd"
      },
      "outputs": [],
      "source": [
        "party_attendees = ['Adela', 'Fleda', 'Owen', 'May', 'Mona', 'Gilbert', 'Ford']\n",
        "def fashionably_late(arrivals,name):\n",
        "\n",
        "  i=arrivals.index(name)\n",
        "  if i>=len(arrivals)//2 and i!=arrivals.index('Ford'):\n",
        "    return True\n",
        "  else:\n",
        "    return False\n",
        "fashionably_late(party_attendees, 'Ford')"
      ]
    },
    {
      "cell_type": "code",
      "execution_count": null,
      "metadata": {
        "id": "Gp3Vay2sMz8g"
      },
      "outputs": [],
      "source": [
        "# Create a function that takes 2 lists as arguments. The function should create a new list that contains alternate elements of both the lists and replaces the string elements of the new list with its own length.\n",
        "# Note : Use loops to update the empty lists.\n",
        "# Example :\n",
        "# def list_operations(first, second):\n",
        "#     ### your code here\n",
        "# first = ['Ai', 'Adventures', 'Python']\n",
        "# second = [10, 20, 30]\n",
        "# list_operations(first, second):\n",
        "# >>> \n",
        "# Elements of the 1st List :  ['Ai', 'Adventures', 'Python']\n",
        "# Elements of the 2nd List :  [10, 20, 30]\n",
        "# List with alternate elements from the above 2 lists :  ['Ai', 10, 'Adventures', 20, 'Python', 30]\n",
        "# Final output list :  [2, 10, 10, 20, 6, 30]\n",
        "# first = ['Jan', 'February', 'March', 72]\n",
        "# second = [10, 20, 30, 'April']\n",
        "# list_operations(first, second):\n",
        "# >>> \n",
        "# Elements of the 1st List :  ['Jan', 'February', 'March', 72]\n",
        "# Elements of the 2nd List :  [10, 20, 30, 'April']\n",
        "# List with alternate elements from the above 2 lists :  ['Jan', 10, 'February', 20, 'March', 30, 72, 'April']\n",
        "# Final output list :  [3, 10, 8, 20, 5, 30, 72, 5]\n",
        "\n",
        "def list_operations(first, second):\n",
        "  l=[]\n",
        "  for a in first:\n",
        "    if type(a)==str:\n",
        "      l.append(len(a))\n",
        "    else:\n",
        "      l.append(a)\n",
        "  m=[]\n",
        "  for b in second:\n",
        "    if type(b)==str:\n",
        "      m.append(len(b))\n",
        "    else:\n",
        "      m.append(b)\n",
        "\n",
        "\n",
        "  for i,j in zip(l,m):\n",
        "    print(i,j,end=' ')\n",
        "  # l=[i[j]for j in range(len(first)) for i in[first,second]]\n",
        "\n",
        "first = ['Ai', 'Adventures', 'Python']\n",
        "second = [10, 20, 30]\n",
        "# Final output list :  [2, 10, 10, 20, 6, 30]\n",
        "\n",
        "\n",
        "list_operations(first, second)"
      ]
    },
    {
      "cell_type": "code",
      "execution_count": null,
      "metadata": {
        "id": "T0YGhVhZqUYX"
      },
      "outputs": [],
      "source": [
        "a=['Jan', 'February', 'March', 72]\n",
        "b=[10, 20, 30, 'April']\n",
        "\n",
        "# Final output list :  [3, 10, 8, 20, 5, 30, 72, 5]\n",
        "\n",
        "list_operations(a,b)"
      ]
    },
    {
      "cell_type": "code",
      "source": [
        "def list_operations(a,b):\n",
        "    f=[]\n",
        "    s=[]\n",
        "    final=[]\n",
        "    for i in range(len (a)):\n",
        "      if type(a[i])==str:\n",
        "        f.append(len(a[i]))\n",
        "      else:\n",
        "        f.append(a[i])\n",
        "\n",
        "      if type(b[i])==str:\n",
        "        s.append(len(b[i]))\n",
        "      else:\n",
        "        s.append(b[i])\n",
        "\n",
        "    for i in range(len(f)):\n",
        "      final.append(f[i])\n",
        "      final.append(s[i])\n",
        "    return final\n",
        "\n",
        "\n"
      ],
      "metadata": {
        "id": "IOyg8VADDO4E"
      },
      "execution_count": null,
      "outputs": []
    },
    {
      "cell_type": "code",
      "source": [
        "a=['Jan', 'February', 'March', 72]\n",
        "b=[10, 20, 30, 'April']\n",
        "list_operations(a,b)"
      ],
      "metadata": {
        "colab": {
          "base_uri": "https://localhost:8080/"
        },
        "id": "PvMLnB4DEZl_",
        "outputId": "c9a459f7-d606-4205-8f24-7c8dc602f3f3"
      },
      "execution_count": null,
      "outputs": [
        {
          "output_type": "execute_result",
          "data": {
            "text/plain": [
              "[3, 10, 8, 20, 5, 30, 72, 5]"
            ]
          },
          "metadata": {},
          "execution_count": 9
        }
      ]
    },
    {
      "cell_type": "markdown",
      "metadata": {
        "id": "4r0ckZBmNWRF"
      },
      "source": [
        "## Other Data Structures Questions"
      ]
    },
    {
      "cell_type": "code",
      "execution_count": null,
      "metadata": {
        "id": "dkDwNeFdM0EP"
      },
      "outputs": [],
      "source": [
        "# Create a dictionary named student and it should contain your Name, Gender, Age & Programming language. \n",
        "#After creating it add a new key Roll number and set its value as 43.\n",
        "student={'Name':'Ram','Gender':'male','Age':21,'programming_language':'Python'}\n",
        "student['Roll_number']=43\n",
        "student"
      ]
    },
    {
      "cell_type": "code",
      "execution_count": null,
      "metadata": {
        "id": "PhVCqOTymF85"
      },
      "outputs": [],
      "source": [
        "# Create a function to display how many times substring A has appeared in the string ABRACADABRA.\n",
        "# Example :\n",
        "# def match_string(string,substring):\n",
        "#     ### your code here\n",
        "# string = 'ABRACADABRA'\n",
        "# substring = 'A'\n",
        "# match_string(string,substring)\n",
        "# >>> 5\n",
        "l=[]\n",
        "def match_string(string,substring):\n",
        "  for x in string:\n",
        "    if x in substring:\n",
        "      l.append(x)\n",
        "  print(len(l))\n",
        "    \n",
        "string = 'ABRACADABRA'\n",
        "substring = 'A'\n",
        "match_string(string,substring)\n",
        "# >>> 5"
      ]
    },
    {
      "cell_type": "code",
      "execution_count": null,
      "metadata": {
        "id": "OuajqEWtmPvy"
      },
      "outputs": [],
      "source": [
        "# Create a function that takes 2 dictionaries as arguments and returns the total bill after selling every fruit according to their rate specified.\n",
        "# Example :\n",
        "# def total_bill(first, second):\n",
        "#     ### your code here\n",
        "# stock = {\"banana\": 6, \"apple\": 0, \"orange\": 32, \"pear\": 15}\n",
        "# prices = {\"banana\": 4, \"apple\": 2, \"orange\": 1.5, \"pear\": 3}\n",
        "# total_bill(stock, prices)\n",
        "# >>> 117.0\n",
        "\n",
        "def total_bill(first, second):\n",
        "  s=[]\n",
        "  p=[]\n",
        "  for i in first.values():\n",
        "    s.append(i)\n",
        "  for j in second.values():\n",
        "    p.append(j)\n",
        "\n",
        "  b=[]\n",
        "  for x in range(len(s)):\n",
        "    b.append(s[x]*p[x])\n",
        "\n",
        "  n=0\n",
        "  for a in b:\n",
        "    n=n+a\n",
        "  print(n)\n",
        "  \n",
        "stock = {\"banana\": 6, \"apple\": 0, \"orange\": 32, \"pear\": 15}\n",
        "prices = {\"banana\": 4, \"apple\": 2, \"orange\": 1.5, \"pear\": 3}\n",
        "total_bill(stock, prices)"
      ]
    },
    {
      "cell_type": "code",
      "execution_count": null,
      "metadata": {
        "id": "jGa2vG86mQRk"
      },
      "outputs": [],
      "source": [
        "# Create a dictionary by assigning the keys from a list and its values from the user using input function.\n",
        "# List :\n",
        "# keys_list = [ \"Name\", \"Birth Month\", \"Programming Language\", \"Salary\" ]\n",
        "# Example :\n",
        "# def create_dict(keys_list):\n",
        "#     ### your code here\n",
        "#     sampleDict = {}\n",
        "# keys_list = [ \"Name\", \"Birth Month\", \"Programming Language\", \"Salary\" ]\n",
        "# create_dict(keys_list)\n",
        "# >>>\n",
        "def create_dict(key_list):\n",
        "  dic={}\n",
        "  for i in key_list:\n",
        "    dic[i]=input()\n",
        "  print(dic)\n",
        "\n",
        "keys_list = [ \"Name\", \"Birth Month\", \"Programming Language\", \"Salary\" ]\n",
        "create_dict(keys_list)"
      ]
    },
    {
      "cell_type": "code",
      "execution_count": null,
      "metadata": {
        "id": "FoD79UBXR6oF"
      },
      "outputs": [],
      "source": [
        "keys_list = [ \"Name\", \"Birth Month\", \"Programming Language\", \"Salary\" ]\n",
        "dic={}\n",
        "for i in keys_list:\n",
        "  dic[i]=input()\n",
        "print(dic)"
      ]
    },
    {
      "cell_type": "code",
      "execution_count": null,
      "metadata": {
        "id": "LBFYxkhWmjZl"
      },
      "outputs": [],
      "source": [
        "# Create a function that displays the unique elements present inside the dictionary in descending order in a single line.\n",
        "# Example :\n",
        "# def unique_elements(dictionary):\n",
        "#     ### your code here\n",
        "# marks = {\"English\": 78, \"Maths\": 89, \"Science\": 92, \"History\": 89, \"Geography\": 77, \"Physics\": 92, \"Chemistry\": 78}\n",
        "# unique_elements(marks)\n",
        "# >>> 92 89 78 77\n",
        "\n",
        "def unique_elements(dictionary):\n",
        "  l=[]\n",
        "  for i in dictionary.values():\n",
        "    l.append(i)\n",
        "    s=set(l)\n",
        "    l1=list(s)\n",
        "    l1.sort()\n",
        "    l1.reverse()\n",
        "  print(l1)\n",
        "\n",
        "marks = {\"English\": 78, \"Maths\": 89, \"Science\": 92, \"History\": 89, \"Geography\": 77, \"Physics\": 92, \"Chemistry\": 78}\n",
        "unique_elements(marks)"
      ]
    },
    {
      "cell_type": "code",
      "execution_count": null,
      "metadata": {
        "id": "CzcTq98Bmjwj"
      },
      "outputs": [],
      "source": [
        "# Create a function that will take 1 argument as tuple of countries and display the number of vowels in the name of each country.\n",
        "# Example :\n",
        "# def count_vowels(countries):\n",
        "#     ### your code here\n",
        "# asian_countries = ('afghanistan', 'bangladesh', 'bhutan', 'china', 'india', 'iran', 'iraq', 'israel','japan')\n",
        "# count_vowels(asian_countries)\n",
        "# >>> afghanistan has 4 vowels.\n",
        "#     bangladesh has 3 vowels.\n",
        "#     bhutan has 2 vowels.\n",
        "#     china has 2 vowels.\n",
        "#     india has 3 vowels.\n",
        "#     iran has 2 vowels.\n",
        "#     iraq has 2 vowels.\n",
        "#     israel has 3 vowels.\n",
        "#     japan has 2 vowels.\n",
        "\n",
        "def count_vowels(countries):\n",
        "  for i in countries:\n",
        "    a='aeiou'\n",
        "    l=[]\n",
        "    for j in i:\n",
        "      if j in a:\n",
        "        l.append(j)\n",
        "    print( i,'has' ,len(l),'vowels')\n",
        "\n",
        "\n",
        "asian_countries = ('afghanistan', 'bangladesh', 'bhutan', 'china', 'india', 'iran', 'iraq', 'israel','japan')\n",
        "count_vowels(asian_countries)"
      ]
    },
    {
      "cell_type": "code",
      "execution_count": null,
      "metadata": {
        "id": "t-2_saK7m2GF"
      },
      "outputs": [],
      "source": [
        "# Write a program that will find all the numbers between 1000 and 3000 (both included) such that each digit of the number is an even number and the numbers obtained should be printed in a comma - separated sequence on a single line.\n",
        "# Note : Google search for join function of string datatype.\n",
        "# def even_in_range():\n",
        "#     ### your code here\n",
        "def even_in_range(a,b):\n",
        "  l=[]\n",
        "  for v in range(a,b+1):\n",
        "    p=''\n",
        "    for j in str(v):\n",
        "      if int(j)%2==0:\n",
        "        p=p+j\n",
        "    if p==str(v):\n",
        "      l.append(str(v))\n",
        "  p1=\",\".join(l)\n",
        "  print(p1)\n",
        "\n",
        "even_in_range(1000,3000)"
      ]
    },
    {
      "cell_type": "code",
      "execution_count": null,
      "metadata": {
        "id": "fZHqPnLGm2m_"
      },
      "outputs": [],
      "source": [
        "# Create a function that will try to mimic the SUPEROVER scenario from Cricket. You have to create 2 dictionaries \n",
        "# for 2 teams and each dictionary will contain the outcome of 6 balls bowled in the superover as key (i.e- run scored\n",
        "# on that ball) and values of that dictionary will be as follows:\n",
        "# 'W' : 0 runs\n",
        "# 'R' : 1-6 runs\n",
        "# The runs scored will be generated randomly using random module by using random.randint(0,6) and make sure that you \n",
        "# are including the number 5 in dictionary deliberately even though there is no 5 runs in cricket. You also have to \n",
        "# track the number of wickets fallen in that superover.\n",
        "# Also make sure that your dictionary has 6 unique keys for every deliveries in a superover. The output of the \n",
        "# function should be dictionaries of both the teams and scorecard along with the number of wickets fallen, by \n",
        "# compnaring the scores of both the teams show which team has won in superover, as shown in the example below:\n",
        "# Example :\n",
        "# def superover():\n",
        "#     ### your code here\n",
        "# superover()\n",
        "# >>> >>> Performance of Team1 : {0: 'W', 1: 'R', 3: 'R', 4: 'R', 5: 'R', 6: 'R'}\n",
        "#     Performance of Team2 : {0: 'W', 1: 'R', 3: 'R', 4: 'R', 5: 'R', 6: 'R'}\n",
        "#     Scorecard of Team1 : 19 / 1\n",
        "# Scorecard of Team2 : 19 / 1\n",
        "#     Its a Draw!  \n",
        "# >>> Performance of Team1 : {0: 'W', 1: 'R', 2: 'R', 4: 'R', 5: 'R', 6: 'R'}\n",
        "#     Performance of Team2 : {0: 'W', 1: 'R', 2: 'R', 3: 'R', 4: 'R', 6: 'R'}\n",
        "#     Scorecard of Team1 : 18 / 1\n",
        "#     Scorecard of Team2 : 16 / 1\n",
        "#     Team1 wins by 2 runs!\n",
        "# >>> Performance of Team1 : {0: 'W', 1: 'R', 3: 'R', 4: 'R', 5: 'R', 6: 'R'}\n",
        "#     Performance of Team2 : {0: 'W', 1: 'R', 2: 'R', 3: 'R', 4: 'R', 5: 'R'}\n",
        "#     Scorecard of Team1 : 19 / 1\n",
        "#     Scorecard of Team2 : 15 / 1\n",
        "#     Team1 wins by 4 runs!\n",
        "\n",
        "import random\n",
        "\n",
        "def superover():\n",
        "  \n",
        "  Team1={}\n",
        "  while len(Team1)!=6:\n",
        "    r=random.randint(0,6)\n",
        "    if r==0:\n",
        "      Team1[r]='W'\n",
        "    else:\n",
        "      Team1[r]='R'\n",
        "  print('Performance of Team1 : ',Team1)\n",
        "\n",
        "  Team2={}\n",
        "  while len(Team2)!=6:\n",
        "    r=random.randint(0,6)\n",
        "    if r==0:\n",
        "      Team2[r]='W'\n",
        "    else:\n",
        "      Team2[r]='R'\n",
        "  print('Performance of Team2 : ',Team2)\n",
        "\n",
        "  t1w=[]\n",
        "  t2w=[]\n",
        "  if 'W' in Team1.values():\n",
        "    t1w.append('w')\n",
        "  if 'W' in Team2.values():\n",
        "    t2w.append('w')\n",
        "\n",
        "  t1score=sum(list(Team1.keys()))\n",
        "  t2score=sum(list(Team2.keys()))\n",
        "\n",
        "  print('Scorecard of Team1 : ',t1score,'/', len(t1w) )\n",
        "  print('Scorecard of Team1 : ',t2score,'/', len(t2w) )\n",
        "\n",
        "  if t1score==t2score:\n",
        "    print('Its a Draw!')\n",
        "  elif t1score>t2score:\n",
        "    print('Team1 wins by', t1score-t2score ,'runs!')\n",
        "  elif t1score<t2score:\n",
        "    print('Team2 wins by', t2score-t1score ,'runs!')\n",
        "\n",
        "\n",
        "\n",
        "\n",
        "superover()"
      ]
    },
    {
      "cell_type": "markdown",
      "metadata": {
        "id": "btrTKrDenibb"
      },
      "source": [
        "## **Advanced Python Questions**"
      ]
    },
    {
      "cell_type": "code",
      "execution_count": null,
      "metadata": {
        "id": "IFegDZPvoqSP"
      },
      "outputs": [],
      "source": [
        "# Create a list to store the numbers between 111 to 200 that are divisible by 7 using comprehension.\n",
        "[i for i in range(111,200) if i%7==0]"
      ]
    },
    {
      "cell_type": "code",
      "execution_count": null,
      "metadata": {
        "id": "8qiiZ2m-oyhe"
      },
      "outputs": [],
      "source": [
        "# Create a dictionary with 5 key-value pairs that has key as an integer in string datatype and their respective value as \n",
        "#a tuple consisting of 2 elements : key in float datatype & square value of key in integer datatype using comprehension.\n",
        "# Example :\n",
        "# >>> {'0': (0.0, 0), '1': (1.0, 1), '2': (2.0, 4), '3': (3.0, 9), '4': (4.0, 16)}\n",
        "{str(i):(float(i),i**2) for i in range(5)}"
      ]
    },
    {
      "cell_type": "code",
      "execution_count": null,
      "metadata": {
        "id": "firR1E48pFWN"
      },
      "outputs": [],
      "source": [
        "# Create a dictionary with key-value pairs that has key as the number and their respective value as True if the length of the number is greater than 1 else False using comprehensions.\n",
        "a={i:True if len(str(i))>1 else False for i in range(6,15) }\n",
        "print(a)"
      ]
    },
    {
      "cell_type": "code",
      "execution_count": null,
      "metadata": {
        "id": "ovEOiffJpGRp"
      },
      "outputs": [],
      "source": [
        "# Create a set that filters the numbers that are divisible by 7 as well as 8 between 0 - 1000 using set comprehension.\n",
        "s={i for i in range(0,1000) if i%7==0 and i%8==0 }\n",
        "print(s)"
      ]
    },
    {
      "cell_type": "code",
      "execution_count": null,
      "metadata": {
        "id": "1l-hsb_YpG0E"
      },
      "outputs": [],
      "source": [
        "# Create a function that takes numbers as input, displays the sum of those numbers, stores the numbers inside a dictionary with number being the key and values being the square root \n",
        "# of those numbers in reverse order in float datatype using map function and dictionary comprehension.\n",
        "# Note : Use input() inside the function and use .split() to split the number string.\n",
        "# Example :\n",
        "# input('Enter the input numbers : ').split()\n",
        "# >>> ['1', '2', '3', '4', '5', '6', '7', '8', '9', '10']\n",
        "# def number_operation():\n",
        "#     ### your code here\n",
        "# number_operation()\n",
        "# >>> Enter the input numbers : 1 2 3 4 5 6 7 8 9 10\n",
        "#     Sum of Input Numbers :  55\n",
        "#     {10.0: 3.1622776601683795, 9.0: 3.0, 8.0: 2.8284271247461903, 7.0: 2.6457513110645907, 6.0: 2.449489742783178, 5.0: 2.23606797749979, 4.0: 2.0, 3.0: 1.7320508075688772, 2.0: 1.4142135623730951, 1.0: 1.0}\n",
        "\n",
        "\n",
        "def number_operation(w):\n",
        "  sr= lambda  p:int(p)**0.5\n",
        "  \n",
        "  q={i:j for i,j in zip(w[::-1],map(sr,w[::-1]))}\n",
        "  print(q)\n",
        "w=input().split()\n",
        "\n",
        "number_operation(w)"
      ]
    },
    {
      "cell_type": "code",
      "execution_count": null,
      "metadata": {
        "id": "qd1c_6AkmYvI"
      },
      "outputs": [],
      "source": [
        "def number_operation():\n",
        "  # sr= lambda  p:int(p)**0.5\n",
        "  w=input().split()\n",
        "  q={i:j for i,j in zip(w[::-1],map(lambda  p:int(p)**0.5,w[::-1]))}\n",
        "  print(q)\n",
        "\n",
        "\n",
        "number_operation()"
      ]
    },
    {
      "cell_type": "code",
      "execution_count": null,
      "metadata": {
        "id": "FHpcQr03Qzgn"
      },
      "outputs": [],
      "source": [
        "square_root=lambda x:int(x)**0.5\n",
        "s=input().split()\n",
        "a={j:i for i,j in zip(map(square_root, s[::-1]),s[::-1])}\n",
        "print(a)\n"
      ]
    },
    {
      "cell_type": "code",
      "execution_count": null,
      "metadata": {
        "id": "s0yhUUxtpiGN"
      },
      "outputs": [],
      "source": [
        "# Create a function that uses dictionary comprehension to create a dictionary that stores the character of the \n",
        "# string as the keys and its value will be a group of (1,True) if it is a vowel or (0,False) if it is not.\n",
        "# Note : Try to solve this using zip function and without zip function.\n",
        "# Example :\n",
        "# def is_vowel(string1)::\n",
        "#     ### your code here\n",
        "# string1 = \"practice problems to drill list comprehension in your head.\"\n",
        "# is_vowel(string1)\n",
        "# >>> {'p': (0, False),\n",
        "#  'r': (0, False),\n",
        "#  'a': (1, True),\n",
        "#  'c': (0, False),\n",
        "#  't': (0, False),\n",
        "#  'i': (1, True),\n",
        "#  'e': (1, True),\n",
        "#  ' ': (0, False),\n",
        "#  'o': (1, True),\n",
        "#  'b': (0, False),\n",
        "#  'l': (0, False),\n",
        "#  'm': (0, False),\n",
        "#  's': (0, False),\n",
        "#  'd': (0, False),\n",
        "#  'h': (0, False),\n",
        "#  'n': (0, False),\n",
        "#  'y': (0, False),\n",
        "#  'u': (1, True),\n",
        "#  '.': (0, False)}\n",
        "\n",
        "def is_vowel(string1):\n",
        "  a='aeiou'\n",
        "  d={i:(1,True) if i in a else (0,False) for i in string1}\n",
        "  print(d)\n",
        "\n",
        "\n",
        "string1 = \"practice problems to drill list comprehension in your head.\"\n",
        "is_vowel(string1)\n"
      ]
    },
    {
      "cell_type": "code",
      "execution_count": null,
      "metadata": {
        "id": "EDZZlSFgL8kR"
      },
      "outputs": [],
      "source": [
        "string1 = \"practice problems to drill list comprehension in your head.\"\n",
        "a='aeiou'\n",
        "for i in string1:\n",
        "  if i in a:\n",
        "    print({i:(1,True)})\n",
        "  else:\n",
        "    print({i:(0,False)})\n"
      ]
    },
    {
      "cell_type": "code",
      "execution_count": null,
      "metadata": {
        "id": "Lmj27_Y0piqc"
      },
      "outputs": [],
      "source": [
        "# Create a function that mimics a lottery system that is based on the vowels and consonants from the user's name. Vowels are worth 5 points each and \n",
        "#consonants are worth 1 point each. Points calculation also includes the index numbers of the vowels and consonants. If the vowel points equates to \n",
        "#consonant points, it is a lottery!\n",
        "# Note : Enter your name in lowercase. Try solving this using enumerate and range function.\n",
        "# Example :\n",
        "# point_calculations = ( (5 * Number of vowels) or (1 * Number of consonants) ) + \n",
        "#                      ( sum(index values of vowels) or sum(index values of consonants) )\n",
        "# name : 'abhishek'; index_values : 'a' = 0, 'b' = 1, 'h' = 2, 'i' = 3,\n",
        "#                                   's' = 4, 'h' = 5, 'e' = 6 ,'k' = 7\n",
        "# vowels = ['a', 'i', 'e']; consonants = ['b', 'h', 's', 'h', 'k']\n",
        "# vowel_points = ( 5 * 3 vowels ) + ( 0 + 3 + 6 ) = 15 + 9 = 24\n",
        "# consonant_points = ( 1 * 5 consonants ) + ( 1 + 2 + 4 + 5 + 7 ) = 5 + 19 = 24\n",
        "# def lottery():\n",
        "#     ##Your code here\n",
        "# lottery()\n",
        "# >>> Enter your name : abhishek\n",
        "#     Vowel Points :  24\n",
        "#     Consonant Points :  24\n",
        "#     Lottery!!!!\n",
        "# lottery()\n",
        "# >>> Enter your name : aiadventures\n",
        "#     Vowel Points :  56\n",
        "#     Consonant Points :  46\n",
        "#     Better Luck Next Time!\n",
        "\n",
        "def lottery():\n",
        "  str=input()\n",
        "  v='aeiou'\n",
        "  vowels=[i for i in str if i in v]\n",
        "  consonants=[j for j in str if j not in v]\n",
        " \n",
        "  Number_of_vowels=len(vowels)\n",
        "  Number_of_consonants=len(consonants)\n",
        " \n",
        "  index_values_of_vowels=[i for i in range(len(str)) if str[i] in v]\n",
        "  index_values_of_consonants=[j for j in range(len(str)) if str[j] not in v ]\n",
        "\n",
        "\n",
        "  vowel_points =(Number_of_vowels*Number_of_consonants) + sum(index_values_of_vowels)\n",
        "  consonant_points=(Number_of_consonants*1) + sum (index_values_of_consonants)\n",
        "\n",
        "  if vowel_points==consonant_points:\n",
        "    print('Lottery!!!!')\n",
        "  else:\n",
        "    print('Better Luck Next Time!')\n",
        "\n",
        "\n",
        "\n",
        "\n",
        "lottery()\n",
        "\n"
      ]
    },
    {
      "cell_type": "code",
      "execution_count": null,
      "metadata": {
        "id": "omdYyp54zY8w"
      },
      "outputs": [],
      "source": [
        "str='abhishek'\n",
        "v='aeiou'\n",
        "vowels=[i for i in str if i in v]\n",
        "consonants=[j for j in str if j not in v]\n",
        "# print(vowels)\n",
        "# print(consonants)\n",
        "Number_of_vowels=len(vowels)\n",
        "Number_of_consonants=len(consonants)\n",
        "# print(Number_of_vowels)\n",
        "# print(Number_of_consonants)\n",
        "index_values_of_vowels=[i for i in range(len(str)) if str[i] in v]\n",
        "index_values_of_consonants=[j for j in range(len(str)) if str[j] not in v ]\n",
        "# print(index_values_of_vowels)\n",
        "# print(index_values_of_consonants)\n",
        "\n",
        "  # point_calculations = ( (5 * Number_of_vowels) or (1 * Number_of_consonants) ) +( sum(index values_of_vowels) or sum(index values of consonants) )\n",
        "vowel_points =(Number_of_vowels*Number_of_consonants) + sum(index_values_of_vowels)\n",
        "consonant_points=(Number_of_consonants*1) + sum(index_values_of_consonants)\n",
        "\n",
        "if vowel_points==consonant_points:\n",
        "  print('Lottery!!!!')\n",
        "else:\n",
        "  print('Better Luck Next Time!')"
      ]
    },
    {
      "cell_type": "code",
      "execution_count": null,
      "metadata": {
        "id": "47APovh0v7Sq"
      },
      "outputs": [],
      "source": [
        "a[0],b[0]"
      ]
    },
    {
      "cell_type": "code",
      "execution_count": null,
      "metadata": {
        "colab": {
          "base_uri": "https://localhost:8080/"
        },
        "id": "7axecadwpjJl",
        "outputId": "1a0b7aa0-d7b4-451e-d4ad-263ca7ed3df2"
      },
      "outputs": [
        {
          "name": "stdout",
          "output_type": "stream",
          "text": [
            "['Pico', 'Fermi', 'Pico']\n"
          ]
        }
      ],
      "source": [
        "# Create a function to mimic the fermi pico bagels game by passing two strings as arguments using any type of \n",
        "# comprehension.\n",
        "# Note : Do not pass numbers with repetitive digits.\n",
        "# Note : Make use of iterators, loops and flow control statements in the comprehension.\n",
        "# Example :\n",
        "# def result(guess_number,original_number):\n",
        "#     ##Your code here\n",
        "# result('143','345')\n",
        "# >>> 'Fermi Pico'\n",
        "# result('178','345')\n",
        "# >>> 'Bagels'\n",
        "\n",
        "def result(guess_number,original_number):\n",
        "  l=[]\n",
        "  for i in range(len(original_number)):\n",
        "      if original_number [i] ==guess_number[i] :\n",
        "        l.append('Fermi')\n",
        "      elif guess_number[i] in original_number :\n",
        "        l.append('Pico')\n",
        "    # if ('Fermi' not in l) and  ('Pico' not in l):      \n",
        "      # l.append('Bagel')\n",
        "  print(l) \n",
        "\n",
        "result('543','345')"
      ]
    },
    {
      "cell_type": "code",
      "execution_count": null,
      "metadata": {
        "colab": {
          "base_uri": "https://localhost:8080/"
        },
        "id": "KAq56j_uwH0t",
        "outputId": "dae582ae-8dd0-495d-db25-f0c08dce2c34"
      },
      "outputs": [
        {
          "name": "stdout",
          "output_type": "stream",
          "text": [
            "['Fermi', 'Fermi', 'Fermi']\n"
          ]
        }
      ],
      "source": [
        "def result(guess_number,original_number):\n",
        "  x=['Fermi' if guess_number[i]==original_number[i] else \"Pico\"   for i in range(len(original_number)) if guess_number[i] in original_number]\n",
        "  if len(x)==0:\n",
        "    x.append('Bagel')\n",
        "  print(x)\n",
        "\n",
        "result('123','123')"
      ]
    },
    {
      "cell_type": "markdown",
      "metadata": {
        "id": "_c-ztWT3XyFt"
      },
      "source": [
        "# **Errors and Exceptions Practice Questions**"
      ]
    },
    {
      "cell_type": "markdown",
      "metadata": {
        "id": "HO3nDnQZZkIC"
      },
      "source": [
        "**1** \n",
        "Create a function that takes 2 lists as arguments and appends the 5th element of the 1st list inside the 2nd list. Use the try and except clause for handling the IndexError if the lengths of the lists are not appropriate and display a message as Check the lengths of the list! and the official error message as well.\n",
        "\n",
        "Example :\n",
        "\n",
        "def list_append(l1,l2):\n",
        "    ### your code here\n",
        "\n",
        "l1 = [1,2,3,4,5,6,7,8,9,10]\n",
        "l2 = [100,200,300,400,500,600,700,800,900,1000]\n",
        "list_append(l1,l2)\n",
        ">>> [100, 200, 300, 400, 500, 600, 700, 800, 900, 1000, 6]\n",
        "\n",
        "l1 = [1,2,3]\n",
        "l2 = [100,200,300,400,500,600,700,800,900,1000]\n",
        "list_append(l1,l2)\n",
        ">>> 'Check the lengths of the list!'\n",
        ">>> 'list index out of range'\n",
        "\n"
      ]
    },
    {
      "cell_type": "code",
      "execution_count": null,
      "metadata": {
        "id": "C04sLfs_Z-SL"
      },
      "outputs": [],
      "source": [
        "def list_append(l1,l2):\n",
        "  try:\n",
        "    l2.append(l1[5])\n",
        "    print(l2)\n",
        "  except:\n",
        "    print('Check the lengths of the list! IndexError: list index out of range')\n",
        "\n",
        "l1 = [1,2,3,4,5,6]\n",
        "l2 = [100,200,300,400,500,600,700,800,900,1000]\n",
        "\n",
        "list_append(l1,l2)"
      ]
    },
    {
      "cell_type": "markdown",
      "metadata": {
        "id": "hbmGarmqYuDY"
      },
      "source": [
        "2 Correct the following code snippet where a function takes a number from the user as argument whose factorial value is divided by the same number. The factorial value of the number is calculated from another function that has SyntaxError present. Hence, correct the code snippet and make sure to use the try and except clause to handle the ZeroDivisionError and display the error message as well.\n",
        "\n",
        "Example :\n",
        "\n",
        "def factorial(n):\n",
        "\n",
        "    fact =+ 1\n",
        "    i = 1\n",
        "    while n = i:\n",
        "        fact == fact * (i\n",
        "        i = i - 1\n",
        "    return(fact)\n",
        "\n",
        "def fact_divide(number):\n",
        "    ### your code here\n",
        "\n",
        "\n",
        "number = int(input('Enter any number : '))\n",
        "fact_divide(number)\n",
        ">>> Enter any number : 10\n",
        "    Answer :  362880.0\n",
        "\n",
        "number = int(input('Enter any number : '))\n",
        "fact_divide(number)\n",
        ">>> Enter any number : 0\n",
        "    Error :  division by zero\n",
        "\n"
      ]
    },
    {
      "cell_type": "code",
      "execution_count": null,
      "metadata": {
        "id": "wLwBrRJ4ZF9w"
      },
      "outputs": [],
      "source": [
        "def factorial(n):\n",
        "  fact = 1\n",
        "  i = 1\n",
        "  while n>i:\n",
        "    fact = fact * i\n",
        "    i = i+ 1\n",
        "  return(fact)\n",
        "\n",
        "def fact_divide(number):\n",
        "  try:\n",
        "    print('fact divide: ', factorial(number)/number)\n",
        "  except:\n",
        "    print('Error :  division by zero')\n",
        "\n",
        "\n",
        "number = int(input('Enter any number : '))\n",
        "fact_divide(number)\n",
        "\n",
        "# number = int(input('Enter any number : '))\n",
        "# fact_divide(number)\n",
        "# >>> Enter any number : 0\n",
        "#     Error :  division by zero\n",
        "\n"
      ]
    },
    {
      "cell_type": "markdown",
      "metadata": {
        "id": "BSa0qA4iaWTk"
      },
      "source": [
        "3 Complete the following function that takes a string from the user as argument, creates a new string by placing the old string characters and their respective index numbers adjacent to each other. The following code snippet has a SyntaxError present. Hence, add a try-except-else-finally clause to deal with this. Display the TypeError in except clause, use the pass keyword in the else clause and finally clause should display the message Code Completed!.\n",
        "\n",
        "Example :\n",
        "\n",
        "def name_modification(name):\n",
        "\n",
        "    new_name = ''\n",
        "    try:\n",
        "        for i in range(len(name)):\n",
        "            new_name = new_name ^ name[i] ^ str(i) > ' '  \n",
        "        print(new_name)\n",
        "\n",
        "    ### your code here\n",
        "\n",
        " Output of the snippet before correcting the syntax of code present in `try` clause\n",
        "\n",
        "name = input('Enter your name : ')\n",
        "name_modification(name)\n",
        ">>> Enter your name : aiadventures\n",
        "    TypeError :  unsupported operand type(s) for ^: 'str' and 'str'\n",
        "    Code Completed!\n",
        "\n",
        " Output of the snippet after correcting the syntax of code present in `try` clause\n",
        "\n",
        "name = input('Enter your name : ')\n",
        "name_modification(name)\n",
        ">>> Enter your name : aiadventures\n",
        "a0 i1 a2 d3 v4 e5 n6 t7 u8 r9 e10 s11 \n",
        "Code Completed!"
      ]
    },
    {
      "cell_type": "code",
      "execution_count": null,
      "metadata": {
        "id": "0cjTpxUSbTz6"
      },
      "outputs": [],
      "source": [
        "def name_modification(name):\n",
        "  new_name = ''\n",
        "  try:\n",
        "    for i,char in enumerate(name):\n",
        "      #print(str(i))\n",
        "      new_name = new_name +(char +str(i)+' ')\n",
        "    print(new_name)\n",
        "    # for i in range(len(name)):\n",
        "    #   new_name = new_name + name[i] + str(i) + ' '  \n",
        "    #   print(new_name)\n",
        "  except:\n",
        "    print(\"TypeError :  unsupported operand type(s) for ^: 'str' and 'str'\")\n",
        "  else:\n",
        "    pass\n",
        "  finally:\n",
        "    print('Code Completed!')\n",
        "\n",
        "  \n",
        "name = input('Enter your name : ')\n",
        "name_modification(name)\n"
      ]
    },
    {
      "cell_type": "markdown",
      "metadata": {
        "id": "pF7Tn6sWbLdi"
      },
      "source": [
        "The following code snippet has some errors present. Debug the code by googling the error and searching on StackOverFlow as well. You can add, edit or delete variables or values to get the desired output of the code. The following function is asking the user to enter marks for 5 subjects, display the marks in ascending order alongwith the subject name and calculate the percentage of the subjects.\n",
        "\n",
        "Example :\n",
        "\n",
        "def display_marks(l1):\n",
        "\n",
        "    dict = {};d = {}\n",
        "    for i in range(len(l1)):\n",
        "        d.append({l1[i] : int(input('Enter the marks for ' + l1[i] + ' out of 100 : '))})\n",
        "    total_marks = sum(list(map(int,d.values()))\n",
        "    marks = list(map(int,d.values()))\n",
        "    marks.sort()\n",
        "\n",
        "    for i in range(len(marks)):\n",
        "        for j,k in zip(dict.items(),range(len(marks))):\n",
        "            if marks[i] == j[1]:\n",
        "                print(k,'\\t',j[0],'\\t',j[1])\n",
        "    print('Percentage : ', (total_marks / len(marks) * 100) * 100 )\n",
        "\n",
        "list = ['English','Algebra','Science','History','Geography']\n",
        "l1 = list\n",
        "display_marks(l1)\n",
        "\n",
        ">>> Enter the marks for English out of 100 : 90\n",
        "Enter the marks for Algebra out of 100 : 80\n",
        "Enter the marks for Science out of 100 : 70\n",
        "Enter the marks for History out of 100 : 60\n",
        "Enter the marks for Geography out of 100 : 50\n",
        "4    Geography   50\n",
        "3    History     60\n",
        "2    Science     70\n",
        "1    Algebra     80\n",
        "0    English     90\n",
        "Percentage :  70.0"
      ]
    },
    {
      "cell_type": "code",
      "execution_count": null,
      "metadata": {
        "id": "fsQlaJ2taa_g"
      },
      "outputs": [],
      "source": [
        "def char_pattern(team):\n",
        "    try :\n",
        "        l = []\n",
        "        for i in range(len(set(team))):\n",
        "            l.append(team[-(i+1)] * i)\n",
        "        for i in l:\n",
        "            print(i)\n",
        "    except:\n",
        "      print(\"AttributeError :  'list' object has no attribute 'keys'\")\n",
        "\n",
        "    else:\n",
        "      print('No Error! Just to use the raise keyword')\n",
        "    \n",
        "    finally:\n",
        "      print('Code Completed!.')\n",
        "\n",
        "team = input('Enter the name of any IPL team : ')\n",
        "char_pattern(team)"
      ]
    },
    {
      "cell_type": "code",
      "execution_count": null,
      "metadata": {
        "colab": {
          "base_uri": "https://localhost:8080/"
        },
        "id": "80DMYMQELWZs",
        "outputId": "799a1a00-cfca-405c-9546-a39b4a80d6ec"
      },
      "outputs": [
        {
          "name": "stdout",
          "output_type": "stream",
          "text": [
            "Enter the marks for English out of 100 : 90\n",
            "{'English': 90}\n",
            "Enter the marks for Algebra out of 100 : 80\n",
            "{'English': 90, 'Algebra': 80}\n",
            "Enter the marks for Science out of 100 : 70\n",
            "{'English': 90, 'Algebra': 80, 'Science': 70}\n",
            "Enter the marks for History out of 100 : 60\n",
            "{'English': 90, 'Algebra': 80, 'Science': 70, 'History': 60}\n",
            "Enter the marks for Geography out of 100 : 50\n",
            "{'English': 90, 'Algebra': 80, 'Science': 70, 'History': 60, 'Geography': 50}\n",
            "[90, 80, 70, 60, 50]\n",
            "Percentage :  70.0\n"
          ]
        }
      ],
      "source": [
        "# The following code snippet has some errors present. Debug the code by googling the error and searching on StackOverFlow as well. You can add, edit or delete variables or values to get the desired output of the code. The following function is asking the user to enter marks for 5 subjects, display the marks in ascending order alongwith the subject name and calculate the percentage of the subjects.\n",
        "\n",
        "# Example :\n",
        "\n",
        "# def display_marks(l1):\n",
        "\n",
        "#     dict = {};d = {}\n",
        "#     for i in range(len(l1)):\n",
        "#         d.append({l1[i] : int(input('Enter the marks for ' + l1[i] + ' out of 100 : '))})\n",
        "#     total_marks = sum(list(map(int,d.values()))\n",
        "#     marks = list(map(int,d.values()))\n",
        "#     marks.sort()\n",
        "\n",
        "#     for i in range(len(marks)):\n",
        "#         for j,k in zip(dict.items(),range(len(marks))):\n",
        "#             if marks[i] == j[1]:\n",
        "#                 print(k,'\\t',j[0],'\\t',j[1])\n",
        "#     print('Percentage : ', (total_marks / len(marks) * 100) * 100 )\n",
        "\n",
        "# list = ['English','Algebra','Science','History','Geography']\n",
        "# l1 = list\n",
        "# display_marks(l1)\n",
        "\n",
        "# >>> Enter the marks for English out of 100 : 90\n",
        "# Enter the marks for Algebra out of 100 : 80\n",
        "# Enter the marks for Science out of 100 : 70\n",
        "# Enter the marks for History out of 100 : 60\n",
        "# Enter the marks for Geography out of 100 : 50\n",
        "# 4    Geography   50\n",
        "# 3    History     60\n",
        "# 2    Science     70\n",
        "# 1    Algebra     80\n",
        "# 0    English     90\n",
        "# Percentage :  70.0\n",
        "\n",
        "\n",
        "def display_marks(l1):\n",
        "\n",
        "    dict = {};d = {}\n",
        "    for i in range(len(l1)):\n",
        "        d.update({l1[i] : int(input('Enter the marks for ' + l1[i] + ' out of 100 : '))})\n",
        "        print(d)\n",
        "\n",
        "    total_marks = sum(list(map(int,(d.values()))))\n",
        "    marks = list(map(int,list(d.values())))\n",
        "    print(marks)\n",
        "    marks.sort()\n",
        "\n",
        "    for i in range(len(marks)):\n",
        "        for j,k in zip(dict.items(),range(len(marks))):\n",
        "            if marks[i] == j[1]:\n",
        "                print(k,'\\t',j[0],'\\t',j[1])\n",
        "    print('Percentage : ', (total_marks / (len(marks) * 100)) * 100 )\n",
        "\n",
        "lst = ['English','Algebra','Science','History','Geography']\n",
        "display_marks(lst)\n"
      ]
    },
    {
      "cell_type": "code",
      "execution_count": null,
      "metadata": {
        "id": "w1nYvah8YLL4"
      },
      "outputs": [],
      "source": [
        "l1=list"
      ]
    },
    {
      "cell_type": "code",
      "execution_count": null,
      "metadata": {
        "colab": {
          "base_uri": "https://localhost:8080/"
        },
        "id": "DKIXk0XzYMcc",
        "outputId": "b5ef9eb0-453e-461b-f02d-0930ce227f0e"
      },
      "outputs": [
        {
          "data": {
            "text/plain": [
              "list"
            ]
          },
          "execution_count": 3,
          "metadata": {},
          "output_type": "execute_result"
        }
      ],
      "source": [
        "l1"
      ]
    },
    {
      "cell_type": "code",
      "execution_count": null,
      "metadata": {
        "colab": {
          "base_uri": "https://localhost:8080/"
        },
        "id": "wPsqwlybMbhD",
        "outputId": "17e76245-80e4-477d-df10-067217f5ddf0"
      },
      "outputs": [
        {
          "name": "stdout",
          "output_type": "stream",
          "text": [
            "Enter the marks for English out of 100 : 90\n",
            "{'English': 90}\n",
            "Enter the marks for Algebra out of 100 : 80\n",
            "{'English': 90, 'Algebra': 80}\n",
            "Enter the marks for Science out of 100 : 70\n",
            "{'English': 90, 'Algebra': 80, 'Science': 70}\n",
            "Enter the marks for History out of 100 : 60\n",
            "{'English': 90, 'Algebra': 80, 'Science': 70, 'History': 60}\n",
            "Enter the marks for Geography out of 100 : 50\n",
            "{'English': 90, 'Algebra': 80, 'Science': 70, 'History': 60, 'Geography': 50}\n",
            "[90, 80, 70, 60, 50]\n",
            "Percentage :  70.0\n"
          ]
        }
      ],
      "source": [
        "l1=['English','Algebra','Science','History','Geography']\n",
        "dict = {};d = {}\n",
        "for i in range(len(l1)):\n",
        "  d.update({l1[i] : int(input('Enter the marks for ' + l1[i] + ' out of 100 : '))})\n",
        "  print(d)\n",
        "\n",
        "total_marks = sum(list(map(int,d.values())))\n",
        "\n",
        "marks = list(map(int,list(d.values())))\n",
        "print(marks)\n",
        "marks.sort()\n",
        "\n",
        "for i in range(len(marks)):\n",
        "    for j,k in zip(dict.items(),range(len(marks))):\n",
        "        if marks[i] == j[1]:\n",
        "            print(k,'\\t',j[0],'\\t',j[1])\n",
        "print('Percentage : ', (total_marks / (len(marks) * 100)) * 100 )\n"
      ]
    },
    {
      "cell_type": "code",
      "execution_count": null,
      "metadata": {
        "colab": {
          "base_uri": "https://localhost:8080/"
        },
        "id": "MVn0phHUMt4q",
        "outputId": "3da2e813-bbc6-4204-c3dc-1bc8882e42a5"
      },
      "outputs": [
        {
          "name": "stdout",
          "output_type": "stream",
          "text": [
            "280\n"
          ]
        }
      ],
      "source": [
        "a={'English': 90, 'Algebra': 80, 'Science': 0, 'History': 60, 'Geography': 50}\n",
        "r=sum(list(map(int,a.values())))\n",
        "print(r)"
      ]
    },
    {
      "cell_type": "code",
      "source": [],
      "metadata": {
        "id": "_5tg9dx7Yj4m"
      },
      "execution_count": null,
      "outputs": []
    },
    {
      "cell_type": "markdown",
      "metadata": {
        "id": "3xWH857kceOS"
      },
      "source": [
        "# **Strings and Regex Practice Questions**"
      ]
    },
    {
      "cell_type": "markdown",
      "metadata": {
        "id": "tdz84eXUclPv"
      },
      "source": [
        "**Difficulty Level : Easy**\n",
        "Create a function that checks whether a word or phrase is palindrome or not.\n",
        "\n",
        "Palindrome Definition : It is a word or sequence that when read from right-to-left or left-to-right mean the same word.\n",
        "\n",
        "         Example: madam, kayak, racecar, etc.\n",
        "Note : Try solving this using String Slicing and String Concatenation\n",
        "\n",
        "Example :\n",
        "\n",
        "def palindrome(string):\n",
        "    ### your code here\n",
        "\n",
        "palindrome('madam')\n",
        "->-> 'Palindrome!'\n",
        "\n",
        "palindrome('aiadventures')\n",
        "->->-> 'Not Palindrome!'"
      ]
    },
    {
      "cell_type": "code",
      "execution_count": null,
      "metadata": {
        "id": "-hKvKoGrcgq6"
      },
      "outputs": [],
      "source": [
        "#string Slicing method\n",
        "def palindrome(p):\n",
        "  n=p[::-1]\n",
        "  if p==n:\n",
        "    print('Palindrome!')\n",
        "  else:\n",
        "    print('Not Palindrome!')"
      ]
    },
    {
      "cell_type": "code",
      "execution_count": null,
      "metadata": {
        "id": "vrkTvAh2f43u"
      },
      "outputs": [],
      "source": [
        "palindrome('racecar')"
      ]
    },
    {
      "cell_type": "code",
      "execution_count": null,
      "metadata": {
        "id": "Hes0HNIHmOWe"
      },
      "outputs": [],
      "source": [
        "# string concatenation method\n",
        "def pdrome(o):\n",
        "  l=''\n",
        "  for i in o[::-1]:\n",
        "    l=l+i\n",
        "  if l == o:\n",
        "      print('Palindrome!')\n",
        "  else:\n",
        "      print('Not Palindrome!')\n",
        "    \n",
        "    \n",
        "pdrome('kayak')"
      ]
    },
    {
      "cell_type": "markdown",
      "metadata": {
        "id": "7ZIDp1sgc841"
      },
      "source": [
        "\n",
        "\n",
        "*   Create a function that splits the string and stores the word and length of the word in a dictionary using dictionary comprehension.\n",
        "\n",
        "Note : Use String method as well as Regex method.\n",
        "\n",
        "Example :\n",
        "\n",
        "def len_words(string):\n",
        "    ### your code here\n",
        "\n",
        "string1 = \"Practice Problems to Drill List Comprehension in Your Head.\"\n",
        "len_words(string1)\n",
        "\n",
        ">>> {'Practice': 8, 'Problems': 8, 'to': 2, 'Drill': 5, 'List': 4, 'Comprehension': 13, 'in': 2, 'Your': 4, 'Head.': 5}"
      ]
    },
    {
      "cell_type": "code",
      "execution_count": null,
      "metadata": {
        "id": "-ECO29j8dF5p"
      },
      "outputs": [],
      "source": [
        "# string method\n",
        "def len_words(s):\n",
        "  a={x:len(x) for x in s.split()}\n",
        "  print(a)"
      ]
    },
    {
      "cell_type": "code",
      "execution_count": null,
      "metadata": {
        "id": "pXlxw-7Ti6gD"
      },
      "outputs": [],
      "source": [
        "string1 = \"Practice Problems to Drill List Comprehension in Your Head.\"\n",
        "len_words(string1)"
      ]
    },
    {
      "cell_type": "code",
      "execution_count": null,
      "metadata": {
        "id": "oGC5m-hjkALs"
      },
      "outputs": [],
      "source": [
        "# regex method\n",
        "import re\n",
        "def len_words(s):\n",
        "  q=re.compile('\\s+')\n",
        "  v={x: len(x) for x in q.split(s)}\n",
        "  print(v)\n"
      ]
    },
    {
      "cell_type": "code",
      "execution_count": null,
      "metadata": {
        "colab": {
          "base_uri": "https://localhost:8080/"
        },
        "id": "2aRqph1FkiLX",
        "outputId": "0b8564af-4e7e-4a84-9892-ad5ebc70c977"
      },
      "outputs": [
        {
          "output_type": "stream",
          "name": "stdout",
          "text": [
            "{'Practice': 8, 'Problems': 8, 'to': 2, 'Drill': 5, 'List': 4, 'Comprehension': 13, 'in': 2, 'Your': 4, 'Head.': 5}\n"
          ]
        }
      ],
      "source": [
        "string0 = \"Practice Problems to Drill List Comprehension in Your Head.\"\n",
        "len_words(string0)"
      ]
    },
    {
      "cell_type": "markdown",
      "metadata": {
        "id": "9V-kUuqXdJZK"
      },
      "source": [
        "\n",
        "\n",
        "* Create a function that partitions the string on Python and changes all the uppercase elements to lowercase and vice versa for the 1st part of the partition and capitalizes the words of the 2nd part of the partition.\n",
        "\n",
        "Note : Use String method.\n",
        "\n",
        "Example :\n",
        "\n",
        "def sentence_partition(string):\n",
        "    ### your code here\n",
        "\n",
        "string1 = \"Students put efforts in learning Python for a successful future in emerging technologies!\"\n",
        "len_words(string1)\n",
        "\n",
        "-> 'sTUDENTS PUT EFFORTS IN LEARNING Python For A Successful Future In Emerging Technologies!'\n",
        "*   List item\n",
        "\n"
      ]
    },
    {
      "cell_type": "code",
      "execution_count": null,
      "metadata": {
        "id": "tNWVUc87dT-j"
      },
      "outputs": [],
      "source": [
        "def sentence_partition(string):\n",
        "  string=st.partition('Python') \n",
        "  d=''\n",
        "  d+=s[0].swapcase()\n",
        "  d+=s[1]\n",
        "  d+=s[2].title()\n",
        "  return d\n",
        "      \n"
      ]
    },
    {
      "cell_type": "code",
      "execution_count": null,
      "metadata": {
        "id": "Cn5sGAk4qqBW",
        "colab": {
          "base_uri": "https://localhost:8080/",
          "height": 36
        },
        "outputId": "32f7fe90-9334-446e-ab47-c81375750d3d"
      },
      "outputs": [
        {
          "output_type": "execute_result",
          "data": {
            "text/plain": [
              "'sTUDENTS PUT EFFORTS IN LEARNING Python For A Successful Future In Emerging Technologies!'"
            ],
            "application/vnd.google.colaboratory.intrinsic+json": {
              "type": "string"
            }
          },
          "metadata": {},
          "execution_count": 15
        }
      ],
      "source": [
        "st = \"Students put efforts in learning Python for a successful future in emerging technologies!\"\n",
        "sentence_partition(st)"
      ]
    },
    {
      "cell_type": "markdown",
      "metadata": {
        "id": "Iza52IFCdYI7"
      },
      "source": [
        "Create a function that takes your full name as argument and returns the abbreviations of the first and middle names except the last name which is displayed as it is.\n",
        "\n",
        "Note : Use String method as well as Regex method.\n",
        "\n",
        "Example :\n",
        "\n",
        "def create_abbreviations(fullname):\n",
        "    ### your code here\n",
        "\n",
        "name = input('Enter your full name : ')\n",
        "create_abbreviations(name)\n",
        "\n",
        "'>>>' \n",
        "Enter your full name : Steve Paul Jobs\n",
        "'S.P.Jobs'"
      ]
    },
    {
      "cell_type": "code",
      "execution_count": null,
      "metadata": {
        "id": "iJmXxUABdcUc",
        "colab": {
          "base_uri": "https://localhost:8080/",
          "height": 54
        },
        "outputId": "1c7bd49f-9780-4036-fb9d-16cff2c58b5c"
      },
      "outputs": [
        {
          "name": "stdout",
          "output_type": "stream",
          "text": [
            "Enter your full name : Steve Paul Jobs\n"
          ]
        },
        {
          "output_type": "execute_result",
          "data": {
            "text/plain": [
              "'S.P.Jobs'"
            ],
            "application/vnd.google.colaboratory.intrinsic+json": {
              "type": "string"
            }
          },
          "metadata": {},
          "execution_count": 20
        }
      ],
      "source": [
        "def create_abbreviations(fullname):\n",
        "  s=''\n",
        "  for i in fullname.split():\n",
        "    if i== fullname.split()[-1]:\n",
        "      s+=i\n",
        "    else:\n",
        "      s+=i[0]+'.'\n",
        "  return s\n",
        "\n",
        "\n",
        "name = input('Enter your full name : ') \n",
        "create_abbreviations(name)"
      ]
    },
    {
      "cell_type": "markdown",
      "metadata": {
        "id": "vilZJVJJdgg8"
      },
      "source": [
        "**Difficulty Level : Medium**\n",
        "* Create a function that displays a dictionary that extracts a pattern of a >   vowel \n",
        "being followed by any number of consonants from a string. The value of the dictionary is the length of the substring extracted and the key is a symmetric combination of the substring alongwith its length. The length of the key should be double the length of the substring and it should contain the substring alongwith its length being added to the left of the substring if the length is less than equal to 3 else it is added to the right.\n",
        "\n",
        ">Note : Use Regex method and try using dictionary comprehension.\n",
        "\n",
        "Example :\n",
        "\n",
        "def pattern_finding(string):\n",
        "    ### your code here\n",
        "\n",
        "string1 = 'ABCDEFGHAWQETEAINDVOPLZABMNPUI'\n",
        "pattern_finding(string1)\n",
        "\n",
        ">>> {'4444ABCD': 4, '4444EFGH': 4, 'AWQ333': 3, 'ET22': 2, '4444INDV': 4, '4444OPLZ': 4, '55555ABMNP': 5}"
      ]
    },
    {
      "cell_type": "code",
      "execution_count": null,
      "metadata": {
        "colab": {
          "base_uri": "https://localhost:8080/"
        },
        "id": "9J4EHlSsw77U",
        "outputId": "17d2d6df-d62a-49fc-f497-1bf499128274"
      },
      "outputs": [
        {
          "output_type": "stream",
          "name": "stdout",
          "text": [
            "{'4444ABCD': 4, '4444EFGH': 4, 'AWQ333': 3, 'ET22': 2, '4444INDV': 4, '4444OPLZ': 4, '55555ABMNP': 5}\n"
          ]
        }
      ],
      "source": [
        "import re\n",
        "string1 = 'ABCDEFGHAWQETEAINDVOPLZABMNPUI'\n",
        "a={}\n",
        "regex=re.compile('[AEIOU][^AEIOU]+')\n",
        "x=regex.findall(string1)\n",
        "x\n",
        "y={(str(len(i))*len(i))+i:len(i) for i in x}\n",
        "y={}\n",
        "for i in x:\n",
        "  if len(i)>=4:\n",
        "    b=((len(i))*str(len(i)))+i\n",
        "    y.update({b:len(i)})\n",
        "  else:\n",
        "    b=i+((len(i))*str(len(i)))\n",
        "    y.update({b:len(i)})\n",
        "print(y)"
      ]
    },
    {
      "cell_type": "markdown",
      "metadata": {
        "id": "MnHogCwOef7f"
      },
      "source": [
        "Create a function that replaces all the lowercase words with their uppercase versions and vice versa and centers the entire string in 100 spaces only if the 1st word of the string starts with a lowercase letter or ends with an exclamation mark.\n",
        "\n",
        "Note : Use String method as well as Regex method for splitting and replacing string values. This question aims to showcase the similarity between String and Regex methods.\n",
        "\n",
        "Note : There is no mistake in the output of string1 for words : Always to AlwAys ; upgradation to upgrAdAtion. Debug what might have caused it!\n",
        "\n",
        "Example :\n",
        "\n",
        "def string_modification(string):\n",
        "    ### your code here\n",
        "\n",
        "string1 = \"learning data science is too much fun! Always in a process of upgradation.\"\n",
        "string_modification(string1)\n",
        "\n",
        ">>> '            LEARNING DATA SCIENCE IS TOO MUCH FUN! AlwAys IN A PROCESS OF upgrAdAtion.             \n",
        "'\n",
        "\n",
        "string2 = \"Artificial Intelligence, BlockChain, Cybersecurity and Networking are going to mould the future!\"\n",
        "string_modification(string2)\n",
        "\n",
        ">>> '  Artificial Intelligence, BlockChain, Cybersecurity AND Networking ARE GOING TO MOULD THE FUTURE!  '"
      ]
    },
    {
      "cell_type": "code",
      "execution_count": null,
      "metadata": {
        "id": "MEP4SlEeeo6q",
        "colab": {
          "base_uri": "https://localhost:8080/"
        },
        "outputId": "e83c10fe-afff-4a9a-bcca-9f8fb24d9a8a"
      },
      "outputs": [
        {
          "output_type": "stream",
          "name": "stdout",
          "text": [
            "['LEARNING', 'DATA', 'SCIENCE', 'IS', 'TOO', 'MUCH', 'FUN!', 'Always', 'IN', 'A', 'PROCESS', 'OF', 'UPGRADATION.']\n",
            "                                                                                                    \n"
          ]
        }
      ],
      "source": [
        "# def string_modification(string):\n",
        "#   l=[]\n",
        "#   s=' '.join(l)\n",
        "\n",
        "#   for i in string.split():\n",
        "#     if i[0].islower() and i[-1]=='!':\n",
        "#       l.append(i.swapcase())\n",
        "#     else:\n",
        "#       l.append(i)\n",
        "#   print(s)\n",
        "#   if string[0].islower():\n",
        "#     print(s.center(100))\n",
        "#   else:\n",
        "#     print(s)\n",
        "\n",
        "\n",
        "\n",
        "string1 = \"learning data science is too much fun! Always in a process of upgradation.\" \n",
        "\n",
        "l=[]\n",
        "s=' '.join(l)\n",
        "\n",
        "for i in string1.split():\n",
        "  if i[0].islower() or i[-1]=='!':\n",
        "    l.append(i.swapcase())\n",
        "  else:\n",
        "    l.append(i)\n",
        "print(l)\n",
        "if string1[0].islower():\n",
        "  print(s.center(100))\n",
        "else:\n",
        "  print(s)\n",
        "\n",
        "\n",
        "# string_modification(string1)\n",
        "# # ' LEARNING DATA SCIENCE IS TOO MUCH FUN! AlwAys IN A PROCESS OF upgrAdAtion.'\n",
        "\n",
        "string2 = \"Artificial Intelligence, BlockChain, Cybersecurity and Networking are going to mould the future!\" \n",
        "\n",
        "# string_modification(string2)\n",
        "# ' Artificial Intelligence, BlockChain, Cybersecurity AND Networking ARE GOING TO MOULD THE FUTURE! "
      ]
    },
    {
      "cell_type": "markdown",
      "metadata": {
        "id": "TKaH0_u5ep3-"
      },
      "source": [
        " **Difficulty Level : Hard**\n",
        "Create a function that decodes a message encoded in Morse Code, displays the decoded message and the number of vowels and consonants present.\n",
        "\n",
        "Note : Use String methods. Sharing a dictionary to help decode the message.\n",
        "\n",
        "Note : Google about Morse Code for more information.\n",
        "\n",
        "Note : '/' in the message specifies the space between words. ' ' between codes specifies the individual letters.\n",
        "\n",
        "Example :\n",
        "\n",
        "def decode_count(message):\n",
        "    ### your code here\n",
        "\n",
        "\n",
        "morse_code_dict = { 'A':'.-', 'B':'-...',\n",
        "                    'C':'-.-.', 'D':'-..', 'E':'.',\n",
        "                    'F':'..-.', 'G':'--.', 'H':'....',\n",
        "                    'I':'..', 'J':'.---', 'K':'-.-',\n",
        "                    'L':'.-..', 'M':'--', 'N':'-.',\n",
        "                    'O':'---', 'P':'.--.', 'Q':'--.-',\n",
        "                    'R':'.-.', 'S':'...', 'T':'-',\n",
        "                    'U':'..-', 'V':'...-', 'W':'.--',\n",
        "                    'X':'-..-', 'Y':'-.--', 'Z':'--..',\n",
        "                    '1':'.----', '2':'..---', '3':'...--',\n",
        "                    '4':'....-', '5':'.....', '6':'-....',\n",
        "                    '7':'--...', '8':'---..', '9':'----.',\n",
        "                    '0':'-----', ', ':'--..--', '.':'.-.-.-',\n",
        "                    '?':'..--..', '!':'-.-.--','/':'-..-.', \n",
        "                    '-':'-....-','(':'-.--.', ')':'-.--.-',}\n",
        "\n",
        "message = '-.-. --- -. ... .. ... - . -. -.-. -.-- / .. ... / -.- . -.-- -.-.--'\n",
        "decode_count(message)\n",
        "\n",
        ">>> \n",
        "Decoded Message :  CONSISTENCY IS KEY! \n",
        "Number of Vowels :  5\n",
        "Number of Consonants :  15"
      ]
    },
    {
      "cell_type": "code",
      "execution_count": null,
      "metadata": {
        "id": "FmQXyhDDe1LH"
      },
      "outputs": [],
      "source": [
        "def decode_count(message):\n",
        "  morse_code_dict = { 'A':'.-', 'B':'-...', 'C':'-.-.', 'D':'-..', 'E':'.', 'F':'..-.', 'G':'--.', 'H':'....', 'I':'..', 'J':'.---', 'K':'-.-', 'L':'.-..', 'M':'--', 'N':'-.', 'O':'---', 'P':'.--.', 'Q':'--.-', 'R':'.-.', 'S':'...', 'T':'-', 'U':'..-', 'V':'...-', 'W':'.--', 'X':'-..-', 'Y':'-.--', 'Z':'--..', '1':'.----', '2':'..---', '3':'...--', '4':'....-', '5':'.....', '6':'-....', '7':'--...', '8':'---..', '9':'----.', '0':'-----', ', ':'--..--', '.':'.-.-.-', '?':'..--..', '!':'-.-.--','/':'-..-.', '-':'-....-','(':'-.--.', ')':'-.--.-',}\n",
        "  d=''\n",
        "  for i in message.split():\n",
        "    for a,b in morse_code_dict.items():\n",
        "      if i ==b:\n",
        "        d+=a\n",
        "    if i=='/':\n",
        "      d+=' '\n",
        "  v=[i for i in d if i in 'AEIOU']\n",
        "  c=[i for i in d if (i.isalpha()) and (i not in 'AEIOU')]\n",
        "  \n",
        "  print(d,'\\nNumber of Vowels :', len(v),'\\nNumber of Consonants : ',len(c) )\n",
        "\n"
      ]
    },
    {
      "cell_type": "code",
      "source": [
        "message = '-.-. --- -. ... .. ... - . -. -.-. -.-- / .. ... / -.- . -.-- -.-.--' \n",
        "decode_count(message)\n",
        "# len('CONSISTENCY IS KEY!')-5"
      ],
      "metadata": {
        "colab": {
          "base_uri": "https://localhost:8080/"
        },
        "id": "ucuGQGiZiEgD",
        "outputId": "122dd7e8-fcb5-4c9e-a101-0f9255887f7d"
      },
      "execution_count": null,
      "outputs": [
        {
          "output_type": "stream",
          "name": "stdout",
          "text": [
            "CONSISTENCY IS KEY! \n",
            "Number of Vowels : 5 \n",
            "Number of Consonants :  11\n"
          ]
        }
      ]
    },
    {
      "cell_type": "markdown",
      "metadata": {
        "id": "1j0HxEwje-pY"
      },
      "source": [
        "Create a function that extracts information like date, name of the news article, URL extension, category of news, and headline from the list of the links provided and display in a tabular format. To display elements in a tabular format, the string elements and the column names are centered on the length of the longest element present inside that column.\n",
        "\n",
        "Note : Use combination of String and Regex method. The links provided below are modified and thus not original links. Hence, observe the links for pattterns to extract information.\n",
        "\n",
        "Note : Make sure to decide on the number of variables required for this problem. Google to find out the length of the longest element inside the column.\n",
        "\n",
        "Example :\n",
        "\n",
        "def extract_info(links):\n",
        "    ### your code here\n",
        "\n",
        "links = ['https://www.washingtonpost.com/TECHNOLOGY/2021/08/31/tips-phone-disasters/',\n",
        "'https://www.nytimes.com/2019/12/30/TELEVISION/indian-tv-amazon-netflix/',\n",
        "'https://www.thestar.net/TERRORISM/2019/06/15/maoist-rebels-kill-5-policemen-in-eastern-india/',\n",
        "'https://www.weforum.org/HEALTH/2022/01/10/covid19-top-stories-omicron-coronavirus/',\n",
        "'https://www.livemint.in/2022/04/22/SPORTS/neeraj-chopra-wins-gold-in-javelin-throw-at-tokyo-olympics/']\n",
        "extract_info(links)\n",
        "\n",
        ">>>\n",
        "   Date     News Article  Ext  Category                           Headline                         \n",
        "2021/08/31 washingtonpost com TECHNOLOGY                    tips-phone-disasters                   \n",
        "2019/12/30    nytimes     com TELEVISION                  indian-tv-amazon-netflix                 \n",
        "2019/06/15    thestar     net TERRORISM       maoist-rebels-kill-5-policemen-in-eastern-india      \n",
        "2022/01/10    weforum     org   HEALTH            covid19-top-stories-omicron-coronavirus          \n",
        "2022/04/22    livemint     in   SPORTS   neeraj-chopra-wins-gold-in-javelin-throw-at-tokyo-olympics"
      ]
    },
    {
      "cell_type": "code",
      "execution_count": null,
      "metadata": {
        "id": "J8s3h1S5e_Zs",
        "colab": {
          "base_uri": "https://localhost:8080/"
        },
        "outputId": "34aa69d3-92ef-4359-fb98-05997d315004"
      },
      "outputs": [
        {
          "output_type": "stream",
          "name": "stdout",
          "text": [
            "   Date       News Article      Ext           Category                                 Headline                          \n",
            "2021/08/31   washingtonpost     com          TECHNOLOGY                          tips-phone-disasters                    \n",
            "2019/12/30      nytimes         com          TELEVISION                        indian-tv-amazon-netflix                  \n",
            "2019/06/15      thestar         net          TERRORISM             maoist-rebels-kill-5-policemen-in-eastern-india       \n",
            "2022/01/10      weforum         org            HEALTH                  covid19-top-stories-omicron-coronavirus           \n",
            "2022/04/22      livemint         in            SPORTS         neeraj-chopra-wins-gold-in-javelin-throw-at-tokyo-olympics \n"
          ]
        }
      ],
      "source": [
        "links = ['https://www.washingtonpost.com/TECHNOLOGY/2021/08/31/tips-phone-disasters/', 'https://www.nytimes.com/2019/12/30/TELEVISION/indian-tv-amazon-netflix/', 'https://www.thestar.net/TERRORISM/2019/06/15/maoist-rebels-kill-5-policemen-in-eastern-india/', 'https://www.weforum.org/HEALTH/2022/01/10/covid19-top-stories-omicron-coronavirus/', 'https://www.livemint.in/2022/04/22/SPORTS/neeraj-chopra-wins-gold-in-javelin-throw-at-tokyo-olympics/'] \n",
        "\n",
        "import re\n",
        "\n",
        "date=re.compile('\\d+/\\d+/\\d+')\n",
        "d=[date.findall(i)[0] for i in links]\n",
        "\n",
        "News=re.compile('\\.\\w+\\.')\n",
        "n=[News.findall(i)[0][1:-1] for i in links]\n",
        "\n",
        "Ext=re.compile('\\.\\w+/') \n",
        "E=[Ext.findall(i)[0][1:-1] for i in links] \n",
        "\n",
        "Category=re.compile('[A-Z]+') \n",
        "C=[Category.findall(i)[0] for i in links]   \n",
        "C\n",
        "H=[i.split('/')[-2] for i in links ]\n",
        "\n",
        "\n",
        "print('Date'.center(10), 'News Article'.center(17) , 'Ext'.center(10) ,'Category'.center(20) ,'Headline'.center(60))\n",
        "for v,w,x,y,z in zip(d,n,E,C,H):\n",
        "  print(v,w.center(17),x.center(10),y.center(20),z.center(60))\n",
        "\n"
      ]
    },
    {
      "cell_type": "markdown",
      "metadata": {
        "id": "wCuIkqcNBW0f"
      },
      "source": [
        "# **OOP Practice Questions**\n",
        "\n",
        "**Difficulty Level : Easy**\n",
        "\n",
        "Create a class named Display_Info that has 4 instance variables : name, age, hobby and favourite_colour and a method display that displays the instance variables in the same order. Also, make sure to display a message : Object Created Successfully! whenever an object is created.\n",
        "\n",
        "Example :\n",
        "\n",
        "class Display_Info():\n",
        "    ### your code here\n",
        "\n",
        "di1 = Display_Info('Ai Adventures',35,'Drawing','Red')\n",
        "di1.display()\n",
        ">>> Object Created Successfully!\n",
        "Name of the Person :  Ai Adventures\n",
        "Age of the Person :  35\n",
        "Hobby of the Person :  Drawing\n",
        "Favourite Colour of the Person :  Red"
      ]
    },
    {
      "cell_type": "code",
      "source": [],
      "metadata": {
        "id": "g0voa9E-IWaF"
      },
      "execution_count": null,
      "outputs": []
    },
    {
      "cell_type": "code",
      "execution_count": null,
      "metadata": {
        "id": "lqE4l5hzBf2t"
      },
      "outputs": [],
      "source": [
        "\n",
        "class Display_Info():\n",
        "  def __init__(self,name,age,hobby,favourite_color):\n",
        "    self.name=name\n",
        "    self.age=age\n",
        "    self.hobby=hobby\n",
        "    self.favourite_color=favourite_color\n",
        "\n",
        "di1= Display_Info('Ai Adventures',35,'Drawing','Red')\n",
        "print('Object Created Successfully! Name of the Person :%s Age of the Person :%s Hobby of the Person :%s Favourite Colour of the Person :%s'% (di1.name,di1.age,di1.hobby,di1.favourite_color) )\n"
      ]
    },
    {
      "cell_type": "markdown",
      "metadata": {
        "id": "47QjTm92BpGK"
      },
      "source": [
        "\n",
        "\n",
        "*   Create a class named Circle that has a constructor variable radius and 2 \n",
        "\n",
        "methods that calculate the area and the perimeter of the circle.\n",
        "\n",
        "Example :\n",
        "\n",
        "class Circle():\n",
        "    ### your code here\n",
        "\n",
        "c1 = Circle(8)\n",
        "c1.area()\n",
        ">>> 'Area of the Circle :  200.96'\n",
        "\n",
        "c2 = Circle(17)\n",
        "c2.perimeter()\n",
        ">>> 'Perimeter of the Circle :  106.76'"
      ]
    },
    {
      "cell_type": "code",
      "execution_count": null,
      "metadata": {
        "id": "U8iV138NBvRF"
      },
      "outputs": [],
      "source": [
        "class Circle():\n",
        "  def __init__(self,radius):\n",
        "    self.r=radius\n",
        "  \n",
        "  \n",
        "  def area(self):\n",
        "    return ('Area of the Circle : ' , 3.14*(self.r**2))\n",
        "  def perimeter(self):\n",
        "    return 2*(3.14*self.r)"
      ]
    },
    {
      "cell_type": "code",
      "execution_count": null,
      "metadata": {
        "colab": {
          "base_uri": "https://localhost:8080/"
        },
        "id": "SjHiSnwBiVj3",
        "outputId": "c88cadeb-8f60-485d-8327-71debda27c64"
      },
      "outputs": [
        {
          "data": {
            "text/plain": [
              "('Area of the Circle : ', 200.96)"
            ]
          },
          "execution_count": 30,
          "metadata": {},
          "output_type": "execute_result"
        }
      ],
      "source": [
        "c1 = Circle(8) \n",
        "c1.area()"
      ]
    },
    {
      "cell_type": "code",
      "execution_count": null,
      "metadata": {
        "colab": {
          "base_uri": "https://localhost:8080/"
        },
        "id": "D_2mE4UJsvt-",
        "outputId": "f17b6bdc-a0b7-4d00-a8b9-3312ae7edd0c"
      },
      "outputs": [
        {
          "data": {
            "text/plain": [
              "106.76"
            ]
          },
          "execution_count": 32,
          "metadata": {},
          "output_type": "execute_result"
        }
      ],
      "source": [
        "c2 = Circle(17) \n",
        "c2.perimeter()"
      ]
    },
    {
      "cell_type": "markdown",
      "metadata": {
        "id": "pNJD_g67Bxtv"
      },
      "source": [
        "\n",
        "\n",
        "*   Create a class named marks_calculation that has no constructor and no instance variables but has a method named percentage that takes input from the user for marks out of 100 for 5 subjects : ['English','Geometry','History','Science','Geography'] and stores them inside a dictionary with subject names as keys and marks as values. It is then stored as an instance variable marks, display this variable alongwith the percentage of the marks.\n",
        "class marks_calculation():\n",
        "    ### your code here\n",
        "\n",
        "m1 = marks_calculation()\n",
        "\n",
        "m1.percentage()\n",
        ">>> Enter the marks for English out of 100 : 90\n",
        "Enter the marks for Geometry out of 100 : 80\n",
        "Enter the marks for History out of 100 : 70\n",
        "Enter the marks for Science out of 100 : 60\n",
        "Enter the marks for Geography out of 100 : 50\n",
        "Percentage :  70.0\n",
        "\n",
        "m1.marks\n",
        ">>> {'English': 90, 'Geometry': 80, 'History': 70, 'Science': 60, 'Geography': 50}"
      ]
    },
    {
      "cell_type": "code",
      "execution_count": null,
      "metadata": {
        "id": "oIwNBc_ACAqs"
      },
      "outputs": [],
      "source": [
        "class marks_calculation():\n",
        "  \n",
        "  \n",
        "  def percentage(self):\n",
        "    self.marks={}\n",
        "  \n",
        "    l1= ['English','Geometry','History','Science','Geography']\n",
        "    d={}\n",
        "    d1={}\n",
        "    a= list(map(int,d1.values()))\n",
        "    for i in range(len(l1)):\n",
        "        d.update({l1[i] : int(input('Enter the marks for ' + l1[i] + ' out of 100 : '))})\n",
        "    print(d)\n",
        "\n",
        "    total_marks = sum(list(map(int,(d.values()))))\n",
        "    self.marks = list(map(int,list(d.values())))\n",
        "    # print(marks)\n",
        "    self.marks.sort()\n",
        "\n",
        "    for i in range(len(self.marks)):\n",
        "        for j,k in zip(d.items(),range(len(self.marks))):\n",
        "            if self.marks[i] == j[1]:\n",
        "              pass\n",
        "                # print(k,'\\t',j[0],'\\t',j[1])\n",
        "    print('Percentage : ', (total_marks / (len(self.marks) * 100)) * 100 )\n",
        "\n",
        "\n"
      ]
    },
    {
      "cell_type": "code",
      "source": [
        "m1 = marks_calculation()\n",
        "\n",
        "m1.percentage()"
      ],
      "metadata": {
        "colab": {
          "base_uri": "https://localhost:8080/"
        },
        "id": "VNQoAMr-2r0m",
        "outputId": "dc1e98e9-7ab9-4a9a-adb4-549a93fb91bd"
      },
      "execution_count": null,
      "outputs": [
        {
          "output_type": "stream",
          "name": "stdout",
          "text": [
            "Enter the marks for English out of 100 : 10\n",
            "Enter the marks for Geometry out of 100 : 20\n",
            "Enter the marks for History out of 100 : 30\n",
            "Enter the marks for Science out of 100 : 40\n",
            "Enter the marks for Geography out of 100 : 50\n",
            "{'English': 10, 'Geometry': 20, 'History': 30, 'Science': 40, 'Geography': 50}\n",
            "Percentage :  30.0\n"
          ]
        }
      ]
    },
    {
      "cell_type": "code",
      "execution_count": null,
      "metadata": {
        "colab": {
          "base_uri": "https://localhost:8080/"
        },
        "id": "3xpi7pOsi0Ns",
        "outputId": "c1ac32c4-9555-48e4-9637-d5e822f3fd8c"
      },
      "outputs": [
        {
          "name": "stdout",
          "output_type": "stream",
          "text": [
            "product: 2160\n"
          ]
        }
      ],
      "source": [
        "60def multiplyNumbers(*numbers):\n",
        "    product=1\n",
        "    for n in numbers:\n",
        "        product*=n\n",
        "    return product\n",
        " \n",
        "print(\"product:\",multiplyNumbers(4,4,5,3,9))"
      ]
    },
    {
      "cell_type": "code",
      "execution_count": null,
      "metadata": {
        "colab": {
          "base_uri": "https://localhost:8080/"
        },
        "id": "8HYihCF0jms_",
        "outputId": "5b1da381-ba90-4599-d8e8-2e6fff236c92"
      },
      "outputs": [
        {
          "name": "stdout",
          "output_type": "stream",
          "text": [
            "Sentence: Kwargs are awesome!python\n"
          ]
        }
      ],
      "source": [
        "\n",
        "def makeSentence(**words):\n",
        "    sentence=''\n",
        "    for word in words.values():\n",
        "        sentence+=word\n",
        "    return sentence\n",
        " \n",
        "print('Sentence:', makeSentence(a='Kwargs ',b='are ', c='awesome!',d=\"python\"))\n"
      ]
    },
    {
      "cell_type": "code",
      "execution_count": null,
      "metadata": {
        "colab": {
          "base_uri": "https://localhost:8080/"
        },
        "id": "EtOupsZESCm8",
        "outputId": "74e13b93-b887-4a57-9050-b6686fb5761c"
      },
      "outputs": [
        {
          "name": "stdout",
          "output_type": "stream",
          "text": [
            "Enter the marks for English out of 100 : 90\n",
            "Enter the marks for Geometry out of 100 : 80\n",
            "Enter the marks for History out of 100 : 70\n",
            "Enter the marks for Science out of 100 : 60\n",
            "Enter the marks for Geography out of 100 : 50\n",
            "{'English': 90, 'Geometry': 80, 'History': 70, 'Science': 60, 'Geography': 50}\n",
            "Percentage :  70.0\n"
          ]
        },
        {
          "data": {
            "text/plain": [
              "[50, 60, 70, 80, 90]"
            ]
          },
          "execution_count": 29,
          "metadata": {},
          "output_type": "execute_result"
        }
      ],
      "source": [
        "m1 = marks_calculation()\n",
        "m1.percentage()\n",
        "m1.marks"
      ]
    },
    {
      "cell_type": "code",
      "execution_count": null,
      "metadata": {
        "id": "pZ9R2sz2WlOA"
      },
      "outputs": [],
      "source": []
    },
    {
      "cell_type": "markdown",
      "metadata": {
        "id": "stusnfhjCCK_"
      },
      "source": [
        "\n",
        "\n",
        "*   Create a class named BankAccount that contains 2 initialization variables balance and min_balance = 1000. Value for balance variable is passed during object creation whereas min_balance is already defined inside the constructor. It should also contain 2 methods withdraw() and deposit() that takes an argument to add or reduce the balance. Account should maintain min_balance and should not drop the balance below it. Display the balance and appropriate messages after evey withdrawal and deposit.\n",
        "\n",
        "Example :\n",
        "\n",
        "class BankAccount():\n",
        "    ### your code here\n",
        "\n",
        "b1 = BankAccount(3000)\n",
        "b1.withdraw(2000)\n",
        ">>> Withdrawal successful!\n",
        "New Account Balance : ₹ 1000\n",
        "\n",
        "b1.withdraw(500)\n",
        ">>> Withdrawal denied! Cannot let balance cross the min_balance limit!\n",
        "Account balance if this withdrawal is allowed : ₹ 500\n",
        "\n",
        "b1.deposit(1000)\n",
        ">>> Deposit successful!\n",
        "New Account Balance : ₹ 2000\n",
        "\n"
      ]
    },
    {
      "cell_type": "code",
      "execution_count": null,
      "metadata": {
        "id": "JAvL20trCISZ"
      },
      "outputs": [],
      "source": [
        "class BankAccount():\n",
        "  def __init__ (self, balance,mini_balance=1000):\n",
        "    self.bal=balance\n",
        "    self.mbal=mini_balance\n",
        "\n",
        "  def withdraw(self,n):\n",
        "    if (self.bal-n)>=1000:\n",
        "      self.bal=self.bal-n\n",
        "      return 'Withdrawal successful! New Account Balance : ₹  ',self.bal\n",
        "    else:\n",
        "      return'Withdrawal denied! Cannot let balance cross the min_balance limit! Account balance if this withdrawal is allowed : ₹ ', self.bal-n\n",
        "      \n",
        "  def deposit(self,n):\n",
        "    self.bal=self.bal+n\n",
        "    return 'Deposit successful! New Account Balance : ₹ ',self.bal\n",
        "\n"
      ]
    },
    {
      "cell_type": "code",
      "execution_count": null,
      "metadata": {
        "colab": {
          "base_uri": "https://localhost:8080/"
        },
        "id": "l6Ub3jvTtv5m",
        "outputId": "73a56bb5-2b2e-4011-b2df-073a6ae740cc"
      },
      "outputs": [
        {
          "data": {
            "text/plain": [
              "('Withdrawal successful! New Account Balance : ₹  ', 1000)"
            ]
          },
          "execution_count": 78,
          "metadata": {},
          "output_type": "execute_result"
        }
      ],
      "source": [
        "b1 = BankAccount(3000) \n",
        "b1.withdraw(2000)"
      ]
    },
    {
      "cell_type": "code",
      "execution_count": null,
      "metadata": {
        "colab": {
          "base_uri": "https://localhost:8080/"
        },
        "id": "7W-LQtYS06-s",
        "outputId": "3d3db9bf-2029-40a9-f686-89acc7f8e5ca"
      },
      "outputs": [
        {
          "data": {
            "text/plain": [
              "('Deposit successful! New Account Balance : ₹ ', 2000)"
            ]
          },
          "execution_count": 79,
          "metadata": {},
          "output_type": "execute_result"
        }
      ],
      "source": [
        "b1.deposit(1000)"
      ]
    },
    {
      "cell_type": "markdown",
      "metadata": {
        "id": "KzCJ-RZcCJYK"
      },
      "source": [
        "* Difficulty Level : Medium\n",
        "Create a class named Point that consists of 2 constructor variables x and y, 9 Dunder or Magic methods and a length method to carry out a varied range of operations assuming the constructor variables as x co-ordinate and y co-ordinate of a point respectively. Constructor of the class Point should display a message : Point (x,y) created! as well.\n",
        "\n",
        "List of Dunder or Magic methods : [addition, subtraction, multiplication, true division, greater than, greater than equal to, less than, less than equal to, equal to equal to]\n",
        "\n",
        "Note : Google about Dunder or Magic methods.\n",
        "\n",
        "Example :\n",
        "\n",
        "class Point:\n",
        "    ### your code here\n",
        "\n",
        "p1 = Point(10,5)\n",
        "p2 = Point(5,10)\n",
        "\n",
        "print(p1 + p2)\n",
        "print(p1 - p2)\n",
        "print(p1 * p2)\n",
        "print(p1 / p2)\n",
        "print(p1 > p2)\n",
        "print(p1 >= p2)\n",
        "print(p1 < p2)\n",
        "print(p1 <= p2)\n",
        "print(p1 == p2)\n",
        "\n",
        ">>> \n",
        "Point (10,5) created!\n",
        "Point (5,10) created!\n",
        "(15, 15)\n",
        "(5, -5)\n",
        "100\n",
        "(2.0, 0.5)\n",
        "False\n",
        "True\n",
        "False\n",
        "True\n",
        "False"
      ]
    },
    {
      "cell_type": "code",
      "execution_count": null,
      "metadata": {
        "id": "FcEj1q9yCUVT"
      },
      "outputs": [],
      "source": [
        "class Point():\n",
        "  def __init__(self,x,y):\n",
        "    self.x=x\n",
        "    self.y=y\n",
        "    print(f'Point {(self.x, self.y)} Created !')\n",
        "\n",
        "\n",
        "  def __add__(self, p):\n",
        "    return self.x + p.x, self.y + p.y\n",
        "\n",
        "  def __sub__(self, p):\n",
        "    return self.x - p.x, self.y - p.y\n",
        "\n",
        "\n",
        "  def __mul__(self,p):\n",
        "    return self.x *p.x , self.y *p.y\n",
        "\n",
        "  def __truediv__(self,p):\n",
        "    return self.x / p.x, self.y /p.y\n",
        "\n",
        "\n",
        "  def length(self):\n",
        "    return ((self.x) **2 + (self.y)** 2)**0.5\n",
        "\n",
        "\n",
        "  def __gt__(self, p):\n",
        "    return self.length() > p.length()\n",
        "\n",
        "  def __ge__(self,p):\n",
        "    return self.length()>=p.length()\n",
        "\n",
        "  def __lt__(self,p):\n",
        "    return self.length()< p.length()\n",
        "    \n",
        "  def __le__(self,p):\n",
        "    return self.length()<= p.length()\n",
        "\n",
        "  def __eq__(self,p):\n",
        "    return self.length()== p.length()\n",
        "  \n",
        "    # [addition, subtraction, multiplication, true division, greater than, greater than equal to, less than, less than equal to, equal to equal to]\n",
        "    \n"
      ]
    },
    {
      "cell_type": "code",
      "execution_count": null,
      "metadata": {
        "colab": {
          "base_uri": "https://localhost:8080/"
        },
        "id": "fRNCY2lC_4mY",
        "outputId": "8b7478cd-adb6-4759-e659-aeb31a5f88dd"
      },
      "outputs": [
        {
          "output_type": "stream",
          "name": "stdout",
          "text": [
            "Point (10, 5) Created !\n",
            "Point (5, 10) Created !\n",
            "(15, 15)\n",
            "(5, -5)\n",
            "(50, 50)\n",
            "(2.0, 0.5)\n",
            "False\n",
            "True\n",
            "False\n",
            "True\n",
            "True\n"
          ]
        }
      ],
      "source": [
        "p1 = Point(10,5) \n",
        "p2 = Point(5,10)\n",
        "\n",
        "print(p1+p2)\n",
        "print(p1 - p2)\n",
        "print(p1 * p2)\n",
        "print(p1 / p2)\n",
        "print(p1 > p2)\n",
        "print(p1 >= p2)\n",
        "print(p1 < p2)\n",
        "print(p1 <= p2)\n",
        "print(p1 == p2)"
      ]
    },
    {
      "cell_type": "code",
      "source": [
        "p1.__add__(p2)"
      ],
      "metadata": {
        "colab": {
          "base_uri": "https://localhost:8080/"
        },
        "id": "BM6n6mXNmElw",
        "outputId": "016cf716-ce6e-4edb-adfa-75921d0b4dec"
      },
      "execution_count": null,
      "outputs": [
        {
          "output_type": "execute_result",
          "data": {
            "text/plain": [
              "(15, 15)"
            ]
          },
          "metadata": {},
          "execution_count": 5
        }
      ]
    },
    {
      "cell_type": "markdown",
      "metadata": {
        "id": "meV9Q8NPCXt9"
      },
      "source": [
        "* Create a class named Course that has 1 default value constructor variable course = 'Machine Learning' and a method average_score that takes marks from the user for 5 tests, assigns it to a new constructor variable scores and calculates the average score of these marks. Create another class named student which has 2 instance variables name and age and inherits the Course class. It also contains a method display_info that displays a message using the attributes of Course class and student class, it also displays the average score using the average_score method of the Course class.\n",
        "\n",
        "Note : Try using super keyword and without using super keyword.\n",
        "\n",
        "Example :\n",
        "\n",
        "class Course:\n",
        "    ### your code here\n",
        "\n",
        "s1 = student('Aiadventures',35)\n",
        "s1.display_info()\n",
        "\n",
        ">>> Aiadventures, age 35, has enrolled in Machine Learning course!\n",
        "Enter the marks scored out of 10 : 8 9 7 10 6\n",
        "Average Score of Aiadventures in Machine Learning course :  8.0"
      ]
    },
    {
      "cell_type": "code",
      "execution_count": null,
      "metadata": {
        "id": "79l05ZexCbJU"
      },
      "outputs": [],
      "source": [
        "class Course:\n",
        "  def __init__(self):\n",
        "    self.Machine_Learning_course=True\n",
        "    self.a_score=1\n",
        "\n",
        "  def inMachine_Learning_course(self):\n",
        "    if self.Machine_Learning_course:\n",
        "            print(\" has enrolled in Machine Learning course!\")\n",
        "  \n",
        "  def average_score(self):\n",
        "    score=list(map(int,input('Enter the marks scored out of 10 : ').split()))\n",
        "    self.a_score=sum(score)/len(score)\n",
        "    print('Average Score of Aiadventures in Machine Learning course : ',end='') \n",
        "    print(self.a_score)\n",
        "\n",
        "\n",
        "class student(Course):\n",
        "  def __init__(self,name,age):\n",
        "    super().__init__()\n",
        "    self.name=name\n",
        "    self.age=age\n",
        "\n",
        "  def display_info(self):\n",
        "      print(self.name,',','age',self.age, end=',')\n",
        "      super().inMachine_Learning_course()\n",
        "      super().average_score()\n",
        "\n",
        "\n",
        "\n"
      ]
    },
    {
      "cell_type": "code",
      "execution_count": null,
      "metadata": {
        "colab": {
          "base_uri": "https://localhost:8080/"
        },
        "id": "SgGpoI4k3nnI",
        "outputId": "a43f1ff1-628e-4285-c04b-4ac9e57da723"
      },
      "outputs": [
        {
          "name": "stdout",
          "output_type": "stream",
          "text": [
            "Aiadventures , age 35, has enrolled in Machine Learning course!\n",
            "Enter the marks scored out of 10 : 10 9 8 7 6\n",
            "Average Score of Aiadventures in Machine Learning course : 8.0\n"
          ]
        }
      ],
      "source": [
        "s1 = student('Aiadventures',35) \n",
        "s1.display_info()"
      ]
    },
    {
      "cell_type": "markdown",
      "metadata": {
        "id": "Bm_Bh7VKCcBm"
      },
      "source": [
        "\n",
        "* Difficulty Level : Hard\n",
        "Create a program that mimics a real-life SUPEROVER in cricket by creating a class named Team_Performance having no constructor but 3 constructor variables : team = {}, runs = [] and wickets = 0 defined in the only method play of the class. play is responsible for generating the scorecard and storing it inside team, runs and wickets are stored inside runs and wickets respectively. Another class named Superover inherits class Team_Performance that contains a constructor with 2 instance variables : team1 and team2 and displays a message \"Let's begin the Superover between team1 and team2!\" whenever an object is created. It also contains a method begin that calls the play method twice, stores the scorecard, runs and wickets information for both the teams and displays the final ouput.\n",
        "\n",
        "Note : Runs are calculated using random.randint(0,6) from random module.\n",
        "\n",
        "Note : You will have to create new variables inside begin method. The aim of this question is to learn about the structure of code as well as deciding the number of variables and their usage.\n",
        "\n",
        "Note : 0 is considered as wicket and 5 as run is not accepted.\n",
        "\n",
        "Example :\n",
        "\n",
        "class Team_Performance:\n",
        "\n",
        "match = Superover('A','B')\n",
        "match.begin()\n",
        "\n",
        ">>> Let's begin the Superover between A and B!\n",
        "Performance of A : {'B1': 4, 'B2': 4, 'B3': 4, 'B4': 1, 'B5': 1, 'B6': 2}\n",
        "Performance of B : {'B1': 2, 'B2': 3, 'B3': 2, 'B4': 6, 'B5': 0, 'B6': 2}\n",
        "Scorecard of A : 16 / 0\n",
        "Scorecard of B : 15 / 1\n",
        "A wins by 1 runs!\n",
        "\n",
        ">>> Let's begin the Superover between A and B!\n",
        "Performance of A : {'B1': 6, 'B2': 1, 'B3': 0, 'B4': 1, 'B5': 1, 'B6': 6} \n",
        "Performance of B : {'B1': 4, 'B2': 1, 'B3': 0, 'B4': 6, 'B5': 3, 'B6': 2}\n",
        "Scorecard of A : 15 / 1\n",
        "Scorecard of B : 16 / 1\n",
        "B wins by 1 runs!\n",
        "\n",
        ">>> Let's begin the Superover between A and B!\n",
        "Performance of A : {'B1': 1, 'B2': 1, 'B3': 4, 'B4': 0, 'B5': 3, 'B6': 6}\n",
        "Performance of B : {'B1': 4, 'B2': 0, 'B3': 2, 'B4': 1, 'B5': 2, 'B6': 6}\n",
        "Scorecard of A : 15 / 1\n",
        "Scorecard of B : 15 / 1\n",
        "Its a Draw!"
      ]
    },
    {
      "cell_type": "code",
      "execution_count": null,
      "metadata": {
        "id": "oNzYm8TsCgE_"
      },
      "outputs": [],
      "source": []
    },
    {
      "cell_type": "markdown",
      "metadata": {
        "id": "Ay4lsHdCCiDs"
      },
      "source": [
        "* Create a program that mimics a race by creating a class named Player that has 2 instance variable name and distance = 0, 1 class variable number_of_steps and 3 methods : walk, run and jump that increment distance by 0.5, 1 and 2 respectively. Create another class named Race with no constructor but with 2 methods : number_generator and start where number_generator uses random.randint to generate numbers. start method initiates the game and uses walk, run and jump methods of Player class when the generated number is an odd number, even number and prime number respectively. Increment the number_of_steps variable whenever any of the methods of Player class is executed. The game is won by the player that achieves the distance of 20 points in the fewest number_of_steps.\n",
        "\n",
        "Note : Do not use inheritance. Pass objects as method arguements.\n",
        "\n",
        "Example :\n",
        "\n",
        "class Player:\n",
        "    ### your code here\n",
        "\n",
        "p1 = Player('P1')\n",
        "p2 = Player('P2')\n",
        "race = Race()\n",
        "race.start(p1,p2)\n",
        "\n",
        ">>> P1 won the race with 16 steps!\n",
        "Roadmap of P1 :  {2: 'Jump', 4: 'Jump', 5: 'Run', 7: 'Jump', 8: 'Run', 9: 'Run', 10: 'Run', 12: 'Jump', 12.5: 'Walk', 13.5: 'Run', 15.5: 'Jump', 16.0: 'Walk', 17.0: 'Run', 18.0: 'Run', 20.0: 'Jump', 22.0: 'Jump'}\n",
        "P2 lost the race and took 17 steps!\n",
        "Roadmap of P2 :  {1: 'Run', 2: 'Run', 3: 'Run', 4: 'Run', 5: 'Run', 6: 'Run', 8: 'Jump', 9: 'Run', 11: 'Jump', 12: 'Run', 14: 'Jump', 14.5: 'Walk', 16.5: 'Jump', 17.0: 'Walk', 19.0: 'Jump', 20.0: 'Run', 21.0: 'Run'}\n",
        "\n",
        ">>> P2 won the race with 15 steps!\n",
        "Roadmap of P2 :  {1: 'Run', 3: 'Jump', 3.5: 'Walk', 5.5: 'Jump', 7.5: 'Jump', 8.5: 'Run', 9.5: 'Run', 11.5: 'Jump', 12.5: 'Run', 14.5: 'Jump', 15.5: 'Run', 17.5: 'Jump', 19.5: 'Jump', 20.0: 'Walk', 22.0: 'Jump'}\n",
        "P1 lost the race and took 16 steps!\n",
        "Roadmap of P1 :  {2: 'Jump', 2.5: 'Walk', 3.5: 'Run', 5.5: 'Jump', 6.5: 'Run', 7.0: 'Walk', 9.0: 'Jump', 9.5: 'Walk', 11.5: 'Jump', 13.5: 'Jump', 14.5: 'Run', 15.0: 'Walk', 17.0: 'Jump', 18.0: 'Run', 19.0: 'Run', 21.0: 'Jump'}\n",
        "\n",
        ">>> Its a Draw!\n",
        "P1 steps : 15\n",
        "Roadmap of P1 :  {2: 'Jump', 3: 'Run', 4: 'Run', 5: 'Run', 7: 'Jump', 9: 'Jump', 9.5: 'Walk', 10.5: 'Run', 11.5: 'Run', 13.5: 'Jump', 14.5: 'Run', 16.5: 'Jump', 18.5: 'Jump', 19.5: 'Run', 21.5: 'Jump'}\n",
        "P2 steps : 15\n",
        "Roadmap of P2 :  {1: 'Run', 3: 'Jump', 5: 'Jump', 6: 'Run', 6.5: 'Walk', 7.5: 'Run', 8.5: 'Run', 10.5: 'Jump', 12.5: 'Jump', 14.5: 'Jump', 15.0: 'Walk', 16.0: 'Run', 18.0: 'Jump', 19.0: 'Run', 21.0: 'Jump'}"
      ]
    },
    {
      "cell_type": "code",
      "source": [],
      "metadata": {
        "id": "B2mtekUzJymq"
      },
      "execution_count": null,
      "outputs": []
    },
    {
      "cell_type": "code",
      "source": [],
      "metadata": {
        "id": "9_1u_TDKIZyB"
      },
      "execution_count": null,
      "outputs": []
    },
    {
      "cell_type": "code",
      "source": [],
      "metadata": {
        "id": "INcQ90KnIaYG"
      },
      "execution_count": null,
      "outputs": []
    }
  ],
  "metadata": {
    "colab": {
      "collapsed_sections": [
        "UDi0mDwPphE-",
        "PqPjj0mZ2fdu",
        "Vf8LzXGuLEi2",
        "4r0ckZBmNWRF",
        "btrTKrDenibb",
        "_c-ztWT3XyFt",
        "3xWH857kceOS"
      ],
      "provenance": [],
      "authorship_tag": "ABX9TyOJrrT/zosHNkZuAK4JdqTx",
      "include_colab_link": true
    },
    "kernelspec": {
      "display_name": "Python 3",
      "name": "python3"
    },
    "language_info": {
      "name": "python"
    }
  },
  "nbformat": 4,
  "nbformat_minor": 0
}